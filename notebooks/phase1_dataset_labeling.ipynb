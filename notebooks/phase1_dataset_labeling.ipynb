{
 "cells": [
  {
   "cell_type": "code",
   "execution_count": 23,
   "id": "da70e530",
   "metadata": {},
   "outputs": [
    {
     "name": "stdout",
     "output_type": "stream",
     "text": [
      "Project root set to: D:\\0) Abhay\\04) SRH University Study Docs\\Advance Programming\\Python Files\\Case Study Files\n",
      "sys.path updated, project-level imports ready.\n"
     ]
    }
   ],
   "source": [
    "# # PROJECT SETUP CELL — Copy this to the TOP of every notebook\n",
    "\n",
    "# import sys\n",
    "# from pathlib import Path\n",
    "\n",
    "# # Define your project root ONCE here (adjust if you move the project)\n",
    "# PROJECT_ROOT = Path(r\"D:/0) Abhay/04) SRH University Study Docs/Advance Programming/Python Files/Case Study Files\")\n",
    "\n",
    "# # Always add project root to Python's sys.path (enables imports from anywhere)\n",
    "# if str(PROJECT_ROOT) not in sys.path:\n",
    "#     sys.path.insert(0, str(PROJECT_ROOT))\n",
    "\n",
    "# # Example usage: import from utils, config, or other folders at project root\n",
    "# # from utils.path_config import get_data_path\n",
    "\n",
    "# print(f\"Project root set to: {PROJECT_ROOT}\")\n",
    "# print(\"sys.path updated, project-level imports ready.\")\n"
   ]
  },
  {
   "cell_type": "code",
   "execution_count": 46,
   "id": "8c4345a1",
   "metadata": {},
   "outputs": [],
   "source": [
    "import notebook_setup\n",
    "import pandas as pd\n",
    "import os\n",
    "\n",
    "from utils.path_config import get_data_path\n",
    "from utils.text_cleaning import clean_review_df\n",
    "from utils.data_saving import save_with_rolling_backup\n"
   ]
  },
  {
   "cell_type": "code",
   "execution_count": 26,
   "id": "347d9be4",
   "metadata": {},
   "outputs": [
    {
     "name": "stdout",
     "output_type": "stream",
     "text": [
      "(75000, 13)\n"
     ]
    },
    {
     "name": "stderr",
     "output_type": "stream",
     "text": [
      "C:\\Users\\abhay\\AppData\\Local\\Temp\\ipykernel_4648\\1802237123.py:1: DtypeWarning: Columns (9) have mixed types. Specify dtype option on import or set low_memory=False.\n",
      "  df = pd.read_csv(get_data_path(\"chatbot_amazon.csv\"))\n"
     ]
    },
    {
     "data": {
      "text/html": [
       "<div>\n",
       "<style scoped>\n",
       "    .dataframe tbody tr th:only-of-type {\n",
       "        vertical-align: middle;\n",
       "    }\n",
       "\n",
       "    .dataframe tbody tr th {\n",
       "        vertical-align: top;\n",
       "    }\n",
       "\n",
       "    .dataframe thead th {\n",
       "        text-align: right;\n",
       "    }\n",
       "</style>\n",
       "<table border=\"1\" class=\"dataframe\">\n",
       "  <thead>\n",
       "    <tr style=\"text-align: right;\">\n",
       "      <th></th>\n",
       "      <th>overall</th>\n",
       "      <th>verified</th>\n",
       "      <th>reviewTime</th>\n",
       "      <th>reviewerID</th>\n",
       "      <th>asin</th>\n",
       "      <th>reviewerName</th>\n",
       "      <th>reviewText</th>\n",
       "      <th>summary</th>\n",
       "      <th>unixReviewTime</th>\n",
       "      <th>vote</th>\n",
       "      <th>style</th>\n",
       "      <th>image</th>\n",
       "      <th>category</th>\n",
       "    </tr>\n",
       "  </thead>\n",
       "  <tbody>\n",
       "    <tr>\n",
       "      <th>0</th>\n",
       "      <td>1.0</td>\n",
       "      <td>True</td>\n",
       "      <td>04 10, 2017</td>\n",
       "      <td>A26PO1B2Q2G1CS</td>\n",
       "      <td>014789302X</td>\n",
       "      <td>Jacqueline Diaz</td>\n",
       "      <td>I didn't like this product it smudged all unde...</td>\n",
       "      <td>One Star</td>\n",
       "      <td>1491782400</td>\n",
       "      <td>NaN</td>\n",
       "      <td>NaN</td>\n",
       "      <td>NaN</td>\n",
       "      <td>Beauty</td>\n",
       "    </tr>\n",
       "    <tr>\n",
       "      <th>1</th>\n",
       "      <td>5.0</td>\n",
       "      <td>True</td>\n",
       "      <td>09 14, 2010</td>\n",
       "      <td>A3BEXXPM77KR5Z</td>\n",
       "      <td>1620213982</td>\n",
       "      <td>prodoman6</td>\n",
       "      <td>This product is great!! I nvr thought it would...</td>\n",
       "      <td>Great product</td>\n",
       "      <td>1284422400</td>\n",
       "      <td>2.0</td>\n",
       "      <td>{'Size:': ' 3'}</td>\n",
       "      <td>NaN</td>\n",
       "      <td>Beauty</td>\n",
       "    </tr>\n",
       "  </tbody>\n",
       "</table>\n",
       "</div>"
      ],
      "text/plain": [
       "   overall  verified   reviewTime      reviewerID        asin  \\\n",
       "0      1.0      True  04 10, 2017  A26PO1B2Q2G1CS  014789302X   \n",
       "1      5.0      True  09 14, 2010  A3BEXXPM77KR5Z  1620213982   \n",
       "\n",
       "      reviewerName                                         reviewText  \\\n",
       "0  Jacqueline Diaz  I didn't like this product it smudged all unde...   \n",
       "1        prodoman6  This product is great!! I nvr thought it would...   \n",
       "\n",
       "         summary  unixReviewTime vote            style image category  \n",
       "0       One Star      1491782400  NaN              NaN   NaN   Beauty  \n",
       "1  Great product      1284422400  2.0  {'Size:': ' 3'}   NaN   Beauty  "
      ]
     },
     "execution_count": 26,
     "metadata": {},
     "output_type": "execute_result"
    }
   ],
   "source": [
    "df = pd.read_csv(get_data_path(\"chatbot_amazon.csv\"))\n",
    "print(df.shape)\n",
    "df.head(2)"
   ]
  },
  {
   "cell_type": "code",
   "execution_count": 27,
   "id": "9ec92a2f",
   "metadata": {},
   "outputs": [
    {
     "name": "stdout",
     "output_type": "stream",
     "text": [
      "<class 'pandas.core.frame.DataFrame'>\n",
      "RangeIndex: 75000 entries, 0 to 74999\n",
      "Data columns (total 13 columns):\n",
      " #   Column          Non-Null Count  Dtype  \n",
      "---  ------          --------------  -----  \n",
      " 0   overall         75000 non-null  float64\n",
      " 1   verified        75000 non-null  bool   \n",
      " 2   reviewTime      75000 non-null  object \n",
      " 3   reviewerID      75000 non-null  object \n",
      " 4   asin            75000 non-null  object \n",
      " 5   reviewerName    74982 non-null  object \n",
      " 6   reviewText      74946 non-null  object \n",
      " 7   summary         74968 non-null  object \n",
      " 8   unixReviewTime  75000 non-null  int64  \n",
      " 9   vote            8946 non-null   object \n",
      " 10  style           40870 non-null  object \n",
      " 11  image           1624 non-null   object \n",
      " 12  category        75000 non-null  object \n",
      "dtypes: bool(1), float64(1), int64(1), object(10)\n",
      "memory usage: 6.9+ MB\n"
     ]
    }
   ],
   "source": [
    "df.info()"
   ]
  },
  {
   "cell_type": "code",
   "execution_count": 44,
   "id": "0d9635bb",
   "metadata": {},
   "outputs": [],
   "source": [
    "\"\"\"\"\n",
    "# 1. Fill missing reviewText with summary, if available\n",
    "df['reviewText'] = df['reviewText'].fillna(df['summary'])\n",
    "\n",
    "# 2. For any still-missing reviewText (both reviewText and summary were NaN), fill with a clear placeholder\n",
    "df['reviewText'] = df['reviewText'].fillna(\"No review text provided.\")\n",
    "\n",
    "# 3. Fill missing summary values with an empty string\n",
    "df['summary'] = df['summary'].fillna(\"\")\n",
    "\n",
    "# 4. Add a flag for rows where reviewText was imputed from summary or placeholder\n",
    "df['reviewText_imputed'] = False\n",
    "df.loc[df['reviewText'] == df['summary'], 'reviewText_imputed'] = True\n",
    "df.loc[df['reviewText'] == \"No review text provided.\", 'reviewText_imputed'] = True\n",
    "\n",
    "# print(\"Nulls in reviewText:\", df['reviewText'].isnull().sum())\n",
    "# print(\"Nulls in summary:\", df['summary'].isnull().sum())\n",
    "\n",
    "# 5. Drop unnecessary columns\n",
    "df.drop(columns=['vote', 'style', 'image', 'reviewerName'], inplace=True)\n",
    "\n",
    "# 6. CSV backup after cleaning\n",
    "df.to_csv(get_data_path(\"chatbot_amazon_cleaned_v1.csv\"), index=False)\n",
    "\"\"\"\n",
    "\n",
    "df = clean_review_df(df)"
   ]
  },
  {
   "cell_type": "code",
   "execution_count": null,
   "id": "f97f7444",
   "metadata": {},
   "outputs": [
    {
     "name": "stdout",
     "output_type": "stream",
     "text": [
      "[save_with_rolling_backup] Saved to: D:\\0) Abhay\\04) SRH University Study Docs\\Advance Programming\\Python Files\\Case Study Files\\data\\backup\\chatbot_amazon_cleaned_v1.csv\n"
     ]
    }
   ],
   "source": [
    "# Example usage (backups stored in data/backup/)\n",
    "save_with_rolling_backup(df, base_filename=\"chatbot_amazon_cleaned_v\")"
   ]
  },
  {
   "cell_type": "code",
   "execution_count": null,
   "id": "6f37f34f",
   "metadata": {},
   "outputs": [],
   "source": []
  }
 ],
 "metadata": {
  "kernelspec": {
   "display_name": "Python 3",
   "language": "python",
   "name": "python3"
  },
  "language_info": {
   "codemirror_mode": {
    "name": "ipython",
    "version": 3
   },
   "file_extension": ".py",
   "mimetype": "text/x-python",
   "name": "python",
   "nbconvert_exporter": "python",
   "pygments_lexer": "ipython3",
   "version": "3.13.5"
  }
 },
 "nbformat": 4,
 "nbformat_minor": 5
}
