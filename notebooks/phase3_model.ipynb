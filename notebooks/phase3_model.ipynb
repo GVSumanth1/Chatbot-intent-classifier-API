{
 "cells": [
  {
   "cell_type": "code",
   "execution_count": null,
   "id": "6d312e3a",
   "metadata": {},
   "outputs": [
    {
     "name": "stdout",
     "output_type": "stream",
     "text": [
      "Collecting tokenizers\n",
      "  Using cached tokenizers-0.21.2-cp39-abi3-win_amd64.whl.metadata (6.9 kB)\n",
      "Collecting protobuf\n",
      "  Using cached protobuf-6.31.1-cp310-abi3-win_amd64.whl.metadata (593 bytes)\n",
      "Collecting regex\n",
      "  Using cached regex-2024.11.6-cp310-cp310-win_amd64.whl.metadata (41 kB)\n",
      "Collecting numpy\n",
      "  Using cached numpy-2.2.6-cp310-cp310-win_amd64.whl.metadata (60 kB)\n",
      "Collecting safetensors\n",
      "  Using cached safetensors-0.5.3-cp38-abi3-win_amd64.whl.metadata (3.9 kB)\n",
      "Collecting charset_normalizer\n",
      "  Using cached charset_normalizer-3.4.2-cp310-cp310-win_amd64.whl.metadata (36 kB)\n",
      "Collecting huggingface-hub<1.0,>=0.16.4 (from tokenizers)\n",
      "  Using cached huggingface_hub-0.33.4-py3-none-any.whl.metadata (14 kB)\n",
      "Collecting filelock (from huggingface-hub<1.0,>=0.16.4->tokenizers)\n",
      "  Using cached filelock-3.18.0-py3-none-any.whl.metadata (2.9 kB)\n",
      "Collecting fsspec>=2023.5.0 (from huggingface-hub<1.0,>=0.16.4->tokenizers)\n",
      "  Using cached fsspec-2025.7.0-py3-none-any.whl.metadata (12 kB)\n",
      "Collecting packaging>=20.9 (from huggingface-hub<1.0,>=0.16.4->tokenizers)\n",
      "  Using cached packaging-25.0-py3-none-any.whl.metadata (3.3 kB)\n",
      "Collecting pyyaml>=5.1 (from huggingface-hub<1.0,>=0.16.4->tokenizers)\n",
      "  Using cached PyYAML-6.0.2-cp310-cp310-win_amd64.whl.metadata (2.1 kB)\n",
      "Collecting requests (from huggingface-hub<1.0,>=0.16.4->tokenizers)\n",
      "  Using cached requests-2.32.4-py3-none-any.whl.metadata (4.9 kB)\n",
      "Collecting tqdm>=4.42.1 (from huggingface-hub<1.0,>=0.16.4->tokenizers)\n",
      "  Using cached tqdm-4.67.1-py3-none-any.whl.metadata (57 kB)\n",
      "Collecting typing-extensions>=3.7.4.3 (from huggingface-hub<1.0,>=0.16.4->tokenizers)\n",
      "  Using cached typing_extensions-4.14.1-py3-none-any.whl.metadata (3.0 kB)\n",
      "Collecting colorama (from tqdm>=4.42.1->huggingface-hub<1.0,>=0.16.4->tokenizers)\n",
      "  Using cached colorama-0.4.6-py2.py3-none-any.whl.metadata (17 kB)\n",
      "Collecting idna<4,>=2.5 (from requests->huggingface-hub<1.0,>=0.16.4->tokenizers)\n",
      "  Using cached idna-3.10-py3-none-any.whl.metadata (10 kB)\n",
      "Collecting urllib3<3,>=1.21.1 (from requests->huggingface-hub<1.0,>=0.16.4->tokenizers)\n",
      "  Using cached urllib3-2.5.0-py3-none-any.whl.metadata (6.5 kB)\n",
      "Collecting certifi>=2017.4.17 (from requests->huggingface-hub<1.0,>=0.16.4->tokenizers)\n",
      "  Using cached certifi-2025.7.14-py3-none-any.whl.metadata (2.4 kB)\n",
      "Using cached tokenizers-0.21.2-cp39-abi3-win_amd64.whl (2.5 MB)\n",
      "Using cached huggingface_hub-0.33.4-py3-none-any.whl (515 kB)\n",
      "Using cached protobuf-6.31.1-cp310-abi3-win_amd64.whl (435 kB)\n",
      "Using cached regex-2024.11.6-cp310-cp310-win_amd64.whl (274 kB)\n",
      "Using cached numpy-2.2.6-cp310-cp310-win_amd64.whl (12.9 MB)\n",
      "Using cached safetensors-0.5.3-cp38-abi3-win_amd64.whl (308 kB)\n",
      "Using cached charset_normalizer-3.4.2-cp310-cp310-win_amd64.whl (105 kB)\n",
      "Using cached fsspec-2025.7.0-py3-none-any.whl (199 kB)\n",
      "Using cached packaging-25.0-py3-none-any.whl (66 kB)\n",
      "Using cached PyYAML-6.0.2-cp310-cp310-win_amd64.whl (161 kB)\n",
      "Using cached tqdm-4.67.1-py3-none-any.whl (78 kB)\n",
      "Using cached typing_extensions-4.14.1-py3-none-any.whl (43 kB)\n",
      "Using cached colorama-0.4.6-py2.py3-none-any.whl (25 kB)\n",
      "Using cached filelock-3.18.0-py3-none-any.whl (16 kB)\n",
      "Using cached requests-2.32.4-py3-none-any.whl (64 kB)\n",
      "Using cached idna-3.10-py3-none-any.whl (70 kB)\n",
      "Using cached urllib3-2.5.0-py3-none-any.whl (129 kB)\n",
      "Using cached certifi-2025.7.14-py3-none-any.whl (162 kB)\n",
      "Installing collected packages: urllib3, typing-extensions, safetensors, regex, pyyaml, protobuf, packaging, numpy, idna, fsspec, filelock, colorama, charset_normalizer, certifi, tqdm, requests, huggingface-hub, tokenizers\n",
      "\n",
      "  Attempting uninstall: urllib3\n",
      "\n",
      "    Found existing installation: urllib3 2.5.0\n",
      "\n",
      "    Uninstalling urllib3-2.5.0:\n",
      "\n",
      "      Successfully uninstalled urllib3-2.5.0\n",
      "\n",
      "   ----------------------------------------  0/18 [urllib3]\n",
      "   ----------------------------------------  0/18 [urllib3]\n",
      "   ----------------------------------------  0/18 [urllib3]\n",
      "   ----------------------------------------  0/18 [urllib3]\n",
      "   ----------------------------------------  0/18 [urllib3]\n",
      "   ----------------------------------------  0/18 [urllib3]\n",
      "   ----------------------------------------  0/18 [urllib3]\n",
      "   ----------------------------------------  0/18 [urllib3]\n",
      "   ----------------------------------------  0/18 [urllib3]\n",
      "  Attempting uninstall: typing-extensions\n",
      "   ----------------------------------------  0/18 [urllib3]\n",
      "    Found existing installation: typing_extensions 4.14.1\n",
      "   ----------------------------------------  0/18 [urllib3]\n",
      "    Uninstalling typing_extensions-4.14.1:\n",
      "   ----------------------------------------  0/18 [urllib3]\n",
      "   -- -------------------------------------  1/18 [typing-extensions]\n",
      "   -- -------------------------------------  1/18 [typing-extensions]\n",
      "   -- -------------------------------------  1/18 [typing-extensions]\n",
      "   -- -------------------------------------  1/18 [typing-extensions]\n",
      "   -- -------------------------------------  1/18 [typing-extensions]\n",
      "   -- -------------------------------------  1/18 [typing-extensions]\n",
      "   -- -------------------------------------  1/18 [typing-extensions]\n",
      "   -- -------------------------------------  1/18 [typing-extensions]\n",
      "   -- -------------------------------------  1/18 [typing-extensions]\n",
      "   -- -------------------------------------  1/18 [typing-extensions]\n",
      "   -- -------------------------------------  1/18 [typing-extensions]\n",
      "   -- -------------------------------------  1/18 [typing-extensions]\n",
      "   -- -------------------------------------  1/18 [typing-extensions]\n",
      "   -- -------------------------------------  1/18 [typing-extensions]\n",
      "   -- -------------------------------------  1/18 [typing-extensions]\n",
      "   -- -------------------------------------  1/18 [typing-extensions]\n",
      "      Successfully uninstalled typing_extensions-4.14.1\n",
      "   -- -------------------------------------  1/18 [typing-extensions]\n",
      "   -- -------------------------------------  1/18 [typing-extensions]\n",
      "  Attempting uninstall: safetensors\n",
      "   -- -------------------------------------  1/18 [typing-extensions]\n",
      "    Found existing installation: safetensors 0.5.3\n",
      "   -- -------------------------------------  1/18 [typing-extensions]\n",
      "   ---- -----------------------------------  2/18 [safetensors]\n",
      "    Uninstalling safetensors-0.5.3:\n",
      "   ---- -----------------------------------  2/18 [safetensors]\n",
      "      Successfully uninstalled safetensors-0.5.3\n",
      "   ---- -----------------------------------  2/18 [safetensors]\n",
      "   ---- -----------------------------------  2/18 [safetensors]\n",
      "  Attempting uninstall: regex\n",
      "   ---- -----------------------------------  2/18 [safetensors]\n",
      "    Found existing installation: regex 2024.11.6\n",
      "   ---- -----------------------------------  2/18 [safetensors]\n",
      "    Uninstalling regex-2024.11.6:\n",
      "   ---- -----------------------------------  2/18 [safetensors]\n",
      "      Successfully uninstalled regex-2024.11.6\n",
      "   ---- -----------------------------------  2/18 [safetensors]\n",
      "   ------ ---------------------------------  3/18 [regex]\n",
      "   ------ ---------------------------------  3/18 [regex]\n",
      "   ------ ---------------------------------  3/18 [regex]\n",
      "  Attempting uninstall: pyyaml\n",
      "   ------ ---------------------------------  3/18 [regex]\n",
      "    Found existing installation: PyYAML 6.0.2\n",
      "   ------ ---------------------------------  3/18 [regex]\n",
      "    Uninstalling PyYAML-6.0.2:\n",
      "   ------ ---------------------------------  3/18 [regex]\n",
      "      Successfully uninstalled PyYAML-6.0.2\n",
      "   ------ ---------------------------------  3/18 [regex]\n",
      "   -------- -------------------------------  4/18 [pyyaml]\n",
      "   -------- -------------------------------  4/18 [pyyaml]\n",
      "   -------- -------------------------------  4/18 [pyyaml]\n",
      "  Attempting uninstall: protobuf\n",
      "   -------- -------------------------------  4/18 [pyyaml]\n",
      "    Found existing installation: protobuf 6.31.1\n",
      "   -------- -------------------------------  4/18 [pyyaml]\n",
      "   ----------- ----------------------------  5/18 [protobuf]\n",
      "    Uninstalling protobuf-6.31.1:\n",
      "   ----------- ----------------------------  5/18 [protobuf]\n",
      "      Successfully uninstalled protobuf-6.31.1\n",
      "   ----------- ----------------------------  5/18 [protobuf]\n",
      "   ----------- ----------------------------  5/18 [protobuf]\n",
      "   ----------- ----------------------------  5/18 [protobuf]\n",
      "   ----------- ----------------------------  5/18 [protobuf]\n",
      "   ----------- ----------------------------  5/18 [protobuf]\n",
      "   ----------- ----------------------------  5/18 [protobuf]\n",
      "   ----------- ----------------------------  5/18 [protobuf]\n",
      "   ----------- ----------------------------  5/18 [protobuf]\n",
      "   ----------- ----------------------------  5/18 [protobuf]\n",
      "   ----------- ----------------------------  5/18 [protobuf]\n",
      "   ----------- ----------------------------  5/18 [protobuf]\n",
      "   ----------- ----------------------------  5/18 [protobuf]\n",
      "   ----------- ----------------------------  5/18 [protobuf]\n",
      "   ----------- ----------------------------  5/18 [protobuf]\n",
      "   ----------- ----------------------------  5/18 [protobuf]\n",
      "  Attempting uninstall: packaging\n",
      "   ----------- ----------------------------  5/18 [protobuf]\n",
      "    Found existing installation: packaging 25.0\n",
      "   ----------- ----------------------------  5/18 [protobuf]\n",
      "    Uninstalling packaging-25.0:\n",
      "   ----------- ----------------------------  5/18 [protobuf]\n",
      "      Successfully uninstalled packaging-25.0\n",
      "   ----------- ----------------------------  5/18 [protobuf]\n",
      "   ------------- --------------------------  6/18 [packaging]\n",
      "   ------------- --------------------------  6/18 [packaging]\n",
      "   ------------- --------------------------  6/18 [packaging]\n",
      "  Attempting uninstall: numpy\n",
      "   ------------- --------------------------  6/18 [packaging]\n",
      "    Found existing installation: numpy 2.2.6\n",
      "   ------------- --------------------------  6/18 [packaging]\n",
      "   --------------- ------------------------  7/18 [numpy]\n",
      "   --------------- ------------------------  7/18 [numpy]\n",
      "   --------------- ------------------------  7/18 [numpy]\n",
      "   --------------- ------------------------  7/18 [numpy]\n",
      "   --------------- ------------------------  7/18 [numpy]\n",
      "    Uninstalling numpy-2.2.6:\n",
      "   --------------- ------------------------  7/18 [numpy]\n",
      "   --------------- ------------------------  7/18 [numpy]\n",
      "   --------------- ------------------------  7/18 [numpy]\n",
      "   --------------- ------------------------  7/18 [numpy]\n",
      "   --------------- ------------------------  7/18 [numpy]\n",
      "   --------------- ------------------------  7/18 [numpy]\n",
      "   --------------- ------------------------  7/18 [numpy]\n",
      "   --------------- ------------------------  7/18 [numpy]\n",
      "   --------------- ------------------------  7/18 [numpy]\n",
      "   --------------- ------------------------  7/18 [numpy]\n",
      "   --------------- ------------------------  7/18 [numpy]\n",
      "   --------------- ------------------------  7/18 [numpy]\n",
      "   --------------- ------------------------  7/18 [numpy]\n",
      "   --------------- ------------------------  7/18 [numpy]\n",
      "   --------------- ------------------------  7/18 [numpy]\n",
      "   --------------- ------------------------  7/18 [numpy]\n",
      "   --------------- ------------------------  7/18 [numpy]\n",
      "   --------------- ------------------------  7/18 [numpy]\n",
      "      Successfully uninstalled numpy-2.2.6\n",
      "   --------------- ------------------------  7/18 [numpy]\n",
      "   --------------- ------------------------  7/18 [numpy]\n",
      "   --------------- ------------------------  7/18 [numpy]\n",
      "   --------------- ------------------------  7/18 [numpy]\n",
      "   --------------- ------------------------  7/18 [numpy]\n",
      "   --------------- ------------------------  7/18 [numpy]\n",
      "   --------------- ------------------------  7/18 [numpy]\n",
      "   --------------- ------------------------  7/18 [numpy]\n",
      "   --------------- ------------------------  7/18 [numpy]\n",
      "   --------------- ------------------------  7/18 [numpy]\n",
      "   --------------- ------------------------  7/18 [numpy]\n",
      "   --------------- ------------------------  7/18 [numpy]\n",
      "   --------------- ------------------------  7/18 [numpy]\n",
      "   --------------- ------------------------  7/18 [numpy]\n",
      "   --------------- ------------------------  7/18 [numpy]\n",
      "   --------------- ------------------------  7/18 [numpy]\n",
      "   --------------- ------------------------  7/18 [numpy]\n",
      "   --------------- ------------------------  7/18 [numpy]\n",
      "   --------------- ------------------------  7/18 [numpy]\n",
      "   --------------- ------------------------  7/18 [numpy]\n",
      "   --------------- ------------------------  7/18 [numpy]\n",
      "   --------------- ------------------------  7/18 [numpy]\n",
      "   --------------- ------------------------  7/18 [numpy]\n",
      "   --------------- ------------------------  7/18 [numpy]\n",
      "   --------------- ------------------------  7/18 [numpy]\n",
      "   --------------- ------------------------  7/18 [numpy]\n",
      "   --------------- ------------------------  7/18 [numpy]\n",
      "   --------------- ------------------------  7/18 [numpy]\n",
      "   --------------- ------------------------  7/18 [numpy]\n",
      "   --------------- ------------------------  7/18 [numpy]\n",
      "   --------------- ------------------------  7/18 [numpy]\n",
      "   --------------- ------------------------  7/18 [numpy]\n",
      "   --------------- ------------------------  7/18 [numpy]\n",
      "   --------------- ------------------------  7/18 [numpy]\n",
      "   --------------- ------------------------  7/18 [numpy]\n",
      "   --------------- ------------------------  7/18 [numpy]\n",
      "   --------------- ------------------------  7/18 [numpy]\n",
      "   --------------- ------------------------  7/18 [numpy]\n",
      "   --------------- ------------------------  7/18 [numpy]\n",
      "   --------------- ------------------------  7/18 [numpy]\n",
      "   --------------- ------------------------  7/18 [numpy]\n",
      "   --------------- ------------------------  7/18 [numpy]\n",
      "   --------------- ------------------------  7/18 [numpy]\n",
      "   --------------- ------------------------  7/18 [numpy]\n",
      "   --------------- ------------------------  7/18 [numpy]\n",
      "   --------------- ------------------------  7/18 [numpy]\n",
      "   --------------- ------------------------  7/18 [numpy]\n",
      "   --------------- ------------------------  7/18 [numpy]\n",
      "   --------------- ------------------------  7/18 [numpy]\n",
      "   --------------- ------------------------  7/18 [numpy]\n",
      "   --------------- ------------------------  7/18 [numpy]\n",
      "   --------------- ------------------------  7/18 [numpy]\n",
      "   --------------- ------------------------  7/18 [numpy]\n",
      "   --------------- ------------------------  7/18 [numpy]\n",
      "   --------------- ------------------------  7/18 [numpy]\n",
      "   --------------- ------------------------  7/18 [numpy]\n",
      "   --------------- ------------------------  7/18 [numpy]\n",
      "   --------------- ------------------------  7/18 [numpy]\n",
      "   --------------- ------------------------  7/18 [numpy]\n",
      "   --------------- ------------------------  7/18 [numpy]\n",
      "   --------------- ------------------------  7/18 [numpy]\n",
      "   --------------- ------------------------  7/18 [numpy]\n",
      "   --------------- ------------------------  7/18 [numpy]\n",
      "   --------------- ------------------------  7/18 [numpy]\n",
      "   --------------- ------------------------  7/18 [numpy]\n",
      "   --------------- ------------------------  7/18 [numpy]\n",
      "   --------------- ------------------------  7/18 [numpy]\n",
      "   --------------- ------------------------  7/18 [numpy]\n",
      "   --------------- ------------------------  7/18 [numpy]\n",
      "   --------------- ------------------------  7/18 [numpy]\n",
      "   --------------- ------------------------  7/18 [numpy]\n",
      "   --------------- ------------------------  7/18 [numpy]\n",
      "   --------------- ------------------------  7/18 [numpy]\n",
      "   --------------- ------------------------  7/18 [numpy]\n",
      "   --------------- ------------------------  7/18 [numpy]\n",
      "   --------------- ------------------------  7/18 [numpy]\n",
      "   --------------- ------------------------  7/18 [numpy]\n",
      "   --------------- ------------------------  7/18 [numpy]\n",
      "   --------------- ------------------------  7/18 [numpy]\n",
      "   --------------- ------------------------  7/18 [numpy]\n",
      "   --------------- ------------------------  7/18 [numpy]\n",
      "   --------------- ------------------------  7/18 [numpy]\n",
      "   --------------- ------------------------  7/18 [numpy]\n",
      "   --------------- ------------------------  7/18 [numpy]\n",
      "   --------------- ------------------------  7/18 [numpy]\n",
      "   --------------- ------------------------  7/18 [numpy]\n",
      "   --------------- ------------------------  7/18 [numpy]\n",
      "   --------------- ------------------------  7/18 [numpy]\n",
      "   --------------- ------------------------  7/18 [numpy]\n",
      "   --------------- ------------------------  7/18 [numpy]\n",
      "   --------------- ------------------------  7/18 [numpy]\n",
      "   --------------- ------------------------  7/18 [numpy]\n",
      "   --------------- ------------------------  7/18 [numpy]\n",
      "   --------------- ------------------------  7/18 [numpy]\n",
      "   --------------- ------------------------  7/18 [numpy]\n",
      "   --------------- ------------------------  7/18 [numpy]\n",
      "   --------------- ------------------------  7/18 [numpy]\n",
      "   --------------- ------------------------  7/18 [numpy]\n",
      "   --------------- ------------------------  7/18 [numpy]\n",
      "   --------------- ------------------------  7/18 [numpy]\n",
      "   --------------- ------------------------  7/18 [numpy]\n",
      "   --------------- ------------------------  7/18 [numpy]\n",
      "   --------------- ------------------------  7/18 [numpy]\n",
      "   --------------- ------------------------  7/18 [numpy]\n",
      "   --------------- ------------------------  7/18 [numpy]\n",
      "   --------------- ------------------------  7/18 [numpy]\n",
      "   --------------- ------------------------  7/18 [numpy]\n",
      "   --------------- ------------------------  7/18 [numpy]\n",
      "   --------------- ------------------------  7/18 [numpy]\n",
      "   --------------- ------------------------  7/18 [numpy]\n",
      "   --------------- ------------------------  7/18 [numpy]\n",
      "   --------------- ------------------------  7/18 [numpy]\n",
      "   --------------- ------------------------  7/18 [numpy]\n",
      "   --------------- ------------------------  7/18 [numpy]\n",
      "   --------------- ------------------------  7/18 [numpy]\n",
      "   --------------- ------------------------  7/18 [numpy]\n",
      "   --------------- ------------------------  7/18 [numpy]\n",
      "   --------------- ------------------------  7/18 [numpy]\n",
      "   --------------- ------------------------  7/18 [numpy]\n",
      "   --------------- ------------------------  7/18 [numpy]\n",
      "   --------------- ------------------------  7/18 [numpy]\n",
      "   --------------- ------------------------  7/18 [numpy]\n",
      "   --------------- ------------------------  7/18 [numpy]\n",
      "   --------------- ------------------------  7/18 [numpy]\n",
      "   --------------- ------------------------  7/18 [numpy]\n",
      "   --------------- ------------------------  7/18 [numpy]\n",
      "   --------------- ------------------------  7/18 [numpy]\n",
      "   --------------- ------------------------  7/18 [numpy]\n",
      "   --------------- ------------------------  7/18 [numpy]\n",
      "   --------------- ------------------------  7/18 [numpy]\n",
      "   --------------- ------------------------  7/18 [numpy]\n",
      "  Attempting uninstall: idna\n",
      "   --------------- ------------------------  7/18 [numpy]\n",
      "    Found existing installation: idna 3.10\n",
      "   --------------- ------------------------  7/18 [numpy]\n",
      "    Uninstalling idna-3.10:\n",
      "   --------------- ------------------------  7/18 [numpy]\n",
      "      Successfully uninstalled idna-3.10\n",
      "   --------------- ------------------------  7/18 [numpy]\n",
      "   ----------------- ----------------------  8/18 [idna]\n",
      "   ----------------- ----------------------  8/18 [idna]\n",
      "   ----------------- ----------------------  8/18 [idna]\n",
      "   ----------------- ----------------------  8/18 [idna]\n",
      "  Attempting uninstall: fsspec\n",
      "   ----------------- ----------------------  8/18 [idna]\n",
      "    Found existing installation: fsspec 2025.3.0\n",
      "   ----------------- ----------------------  8/18 [idna]\n",
      "    Uninstalling fsspec-2025.3.0:\n",
      "   ----------------- ----------------------  8/18 [idna]\n",
      "      Successfully uninstalled fsspec-2025.3.0\n",
      "   ----------------- ----------------------  8/18 [idna]\n",
      "   -------------------- -------------------  9/18 [fsspec]\n",
      "   -------------------- -------------------  9/18 [fsspec]\n",
      "   -------------------- -------------------  9/18 [fsspec]\n",
      "   -------------------- -------------------  9/18 [fsspec]\n",
      "   -------------------- -------------------  9/18 [fsspec]\n",
      "   -------------------- -------------------  9/18 [fsspec]\n",
      "   -------------------- -------------------  9/18 [fsspec]\n",
      "   -------------------- -------------------  9/18 [fsspec]\n",
      "   -------------------- -------------------  9/18 [fsspec]\n",
      "   -------------------- -------------------  9/18 [fsspec]\n",
      "   -------------------- -------------------  9/18 [fsspec]\n",
      "   -------------------- -------------------  9/18 [fsspec]\n",
      "  Attempting uninstall: filelock\n",
      "   -------------------- -------------------  9/18 [fsspec]\n",
      "    Found existing installation: filelock 3.18.0\n",
      "   -------------------- -------------------  9/18 [fsspec]\n",
      "    Uninstalling filelock-3.18.0:\n",
      "   -------------------- -------------------  9/18 [fsspec]\n",
      "      Successfully uninstalled filelock-3.18.0\n",
      "   -------------------- -------------------  9/18 [fsspec]\n",
      "   ---------------------- ----------------- 10/18 [filelock]\n",
      "   ---------------------- ----------------- 10/18 [filelock]\n",
      "  Attempting uninstall: colorama\n",
      "   ---------------------- ----------------- 10/18 [filelock]\n",
      "    Found existing installation: colorama 0.4.6\n",
      "   ---------------------- ----------------- 10/18 [filelock]\n",
      "    Uninstalling colorama-0.4.6:\n",
      "   ---------------------- ----------------- 10/18 [filelock]\n",
      "      Successfully uninstalled colorama-0.4.6\n",
      "   ---------------------- ----------------- 10/18 [filelock]\n",
      "   ------------------------ --------------- 11/18 [colorama]\n",
      "   ------------------------ --------------- 11/18 [colorama]\n",
      "  Attempting uninstall: charset_normalizer\n",
      "   ------------------------ --------------- 11/18 [colorama]\n",
      "    Found existing installation: charset-normalizer 3.4.2\n",
      "   ------------------------ --------------- 11/18 [colorama]\n",
      "    Uninstalling charset-normalizer-3.4.2:\n",
      "   ------------------------ --------------- 11/18 [colorama]\n",
      "      Successfully uninstalled charset-normalizer-3.4.2\n",
      "   ------------------------ --------------- 11/18 [colorama]\n",
      "   -------------------------- ------------- 12/18 [charset_normalizer]\n",
      "   -------------------------- ------------- 12/18 [charset_normalizer]\n",
      "   -------------------------- ------------- 12/18 [charset_normalizer]\n",
      "   -------------------------- ------------- 12/18 [charset_normalizer]\n",
      "  Attempting uninstall: certifi\n",
      "   -------------------------- ------------- 12/18 [charset_normalizer]\n",
      "    Found existing installation: certifi 2025.7.14\n",
      "   -------------------------- ------------- 12/18 [charset_normalizer]\n",
      "    Uninstalling certifi-2025.7.14:\n",
      "   -------------------------- ------------- 12/18 [charset_normalizer]\n",
      "      Successfully uninstalled certifi-2025.7.14\n",
      "   -------------------------- ------------- 12/18 [charset_normalizer]\n",
      "   ---------------------------- ----------- 13/18 [certifi]\n",
      "  Attempting uninstall: tqdm\n",
      "   ---------------------------- ----------- 13/18 [certifi]\n",
      "    Found existing installation: tqdm 4.67.1\n",
      "   ---------------------------- ----------- 13/18 [certifi]\n",
      "    Uninstalling tqdm-4.67.1:\n",
      "   ---------------------------- ----------- 13/18 [certifi]\n",
      "      Successfully uninstalled tqdm-4.67.1\n",
      "   ---------------------------- ----------- 13/18 [certifi]\n",
      "   ------------------------------- -------- 14/18 [tqdm]\n",
      "   ------------------------------- -------- 14/18 [tqdm]\n",
      "   ------------------------------- -------- 14/18 [tqdm]\n",
      "   ------------------------------- -------- 14/18 [tqdm]\n",
      "   ------------------------------- -------- 14/18 [tqdm]\n",
      "  Attempting uninstall: requests\n",
      "   ------------------------------- -------- 14/18 [tqdm]\n",
      "    Found existing installation: requests 2.32.4\n",
      "   ------------------------------- -------- 14/18 [tqdm]\n",
      "   --------------------------------- ------ 15/18 [requests]\n",
      "    Uninstalling requests-2.32.4:\n",
      "   --------------------------------- ------ 15/18 [requests]\n",
      "      Successfully uninstalled requests-2.32.4\n",
      "   --------------------------------- ------ 15/18 [requests]\n",
      "   --------------------------------- ------ 15/18 [requests]\n",
      "   --------------------------------- ------ 15/18 [requests]\n",
      "   --------------------------------- ------ 15/18 [requests]\n",
      "  Attempting uninstall: huggingface-hub\n",
      "   --------------------------------- ------ 15/18 [requests]\n",
      "    Found existing installation: huggingface-hub 0.33.4\n",
      "   --------------------------------- ------ 15/18 [requests]\n",
      "    Uninstalling huggingface-hub-0.33.4:\n",
      "   --------------------------------- ------ 15/18 [requests]\n",
      "   ----------------------------------- ---- 16/18 [huggingface-hub]\n",
      "      Successfully uninstalled huggingface-hub-0.33.4\n",
      "   ----------------------------------- ---- 16/18 [huggingface-hub]\n",
      "   ----------------------------------- ---- 16/18 [huggingface-hub]\n",
      "   ----------------------------------- ---- 16/18 [huggingface-hub]\n",
      "   ----------------------------------- ---- 16/18 [huggingface-hub]\n",
      "   ----------------------------------- ---- 16/18 [huggingface-hub]\n",
      "   ----------------------------------- ---- 16/18 [huggingface-hub]\n",
      "   ----------------------------------- ---- 16/18 [huggingface-hub]\n",
      "   ----------------------------------- ---- 16/18 [huggingface-hub]\n",
      "   ----------------------------------- ---- 16/18 [huggingface-hub]\n",
      "   ----------------------------------- ---- 16/18 [huggingface-hub]\n",
      "   ----------------------------------- ---- 16/18 [huggingface-hub]\n",
      "   ----------------------------------- ---- 16/18 [huggingface-hub]\n",
      "   ----------------------------------- ---- 16/18 [huggingface-hub]\n",
      "   ----------------------------------- ---- 16/18 [huggingface-hub]\n",
      "   ----------------------------------- ---- 16/18 [huggingface-hub]\n",
      "   ----------------------------------- ---- 16/18 [huggingface-hub]\n",
      "   ----------------------------------- ---- 16/18 [huggingface-hub]\n",
      "   ----------------------------------- ---- 16/18 [huggingface-hub]\n",
      "   ----------------------------------- ---- 16/18 [huggingface-hub]\n",
      "   ----------------------------------- ---- 16/18 [huggingface-hub]\n",
      "   ----------------------------------- ---- 16/18 [huggingface-hub]\n",
      "   ----------------------------------- ---- 16/18 [huggingface-hub]\n",
      "   ----------------------------------- ---- 16/18 [huggingface-hub]\n",
      "   ----------------------------------- ---- 16/18 [huggingface-hub]\n",
      "   ----------------------------------- ---- 16/18 [huggingface-hub]\n",
      "   ----------------------------------- ---- 16/18 [huggingface-hub]\n",
      "   ----------------------------------- ---- 16/18 [huggingface-hub]\n",
      "   ----------------------------------- ---- 16/18 [huggingface-hub]\n",
      "   ----------------------------------- ---- 16/18 [huggingface-hub]\n",
      "   ----------------------------------- ---- 16/18 [huggingface-hub]\n",
      "   ----------------------------------- ---- 16/18 [huggingface-hub]\n",
      "   ----------------------------------- ---- 16/18 [huggingface-hub]\n",
      "  Attempting uninstall: tokenizers\n",
      "   ----------------------------------- ---- 16/18 [huggingface-hub]\n",
      "    Found existing installation: tokenizers 0.21.2\n",
      "   ----------------------------------- ---- 16/18 [huggingface-hub]\n",
      "    Uninstalling tokenizers-0.21.2:\n",
      "   ----------------------------------- ---- 16/18 [huggingface-hub]\n",
      "      Successfully uninstalled tokenizers-0.21.2\n",
      "   ----------------------------------- ---- 16/18 [huggingface-hub]\n",
      "   ------------------------------------- -- 17/18 [tokenizers]\n",
      "   ------------------------------------- -- 17/18 [tokenizers]\n",
      "   ------------------------------------- -- 17/18 [tokenizers]\n",
      "   ------------------------------------- -- 17/18 [tokenizers]\n",
      "   ---------------------------------------- 18/18 [tokenizers]\n",
      "\n",
      "Successfully installed certifi-2025.7.14 charset_normalizer-3.4.2 colorama-0.4.6 filelock-3.18.0 fsspec-2025.7.0 huggingface-hub-0.33.4 idna-3.10 numpy-2.2.6 packaging-25.0 protobuf-6.31.1 pyyaml-6.0.2 regex-2024.11.6 requests-2.32.4 safetensors-0.5.3 tokenizers-0.21.2 tqdm-4.67.1 typing-extensions-4.14.1 urllib3-2.5.0\n"
     ]
    },
    {
     "name": "stderr",
     "output_type": "stream",
     "text": [
      "ERROR: pip's dependency resolver does not currently take into account all the packages that are installed. This behaviour is the source of the following dependency conflicts.\n",
      "datasets 4.0.0 requires fsspec[http]<=2025.3.0,>=2023.1.0, but you have fsspec 2025.7.0 which is incompatible.\n"
     ]
    }
   ],
   "source": [
    "\"\"\"\n",
    "! pip install imbalanced-learn\n",
    "! pip install --upgrade scikit-learn imbalanced-learn\n",
    "! pip install transformers datasets evaluate --quiet\n",
    "! pip install transformers datasets --upgrade\n",
    "! pip install --upgrade protobuf tiktoken\n",
    "! pip install hf_xet\n",
    "! pip install \"accelerate>=0.26.0\"\n",
    "! pip install --upgrade transformers\n",
    "\"\"\"\n",
    "# ! pip install transformers datasets evaluate accelerate --upgrade\n",
    "# ! pip install --upgrade --force-reinstall tokenizers protobuf regex numpy safetensors charset_normalizer\n",
    "\n",
    "\n"
   ]
  },
  {
   "cell_type": "code",
   "execution_count": 31,
   "id": "8be7a614",
   "metadata": {},
   "outputs": [],
   "source": [
    "import notebook_setup\n",
    "import pandas as pd\n",
    "import os\n",
    "import re\n",
    "import matplotlib.pyplot as plt\n",
    "import seaborn as sns\n",
    "import numpy as np\n",
    "\n",
    "from sklearn.preprocessing import LabelEncoder\n",
    "from sklearn.model_selection import train_test_split, GridSearchCV\n",
    "from sklearn.feature_extraction.text import TfidfVectorizer\n",
    "from sklearn.linear_model import LogisticRegression\n",
    "from sklearn.metrics import classification_report, confusion_matrix\n",
    "from sklearn.metrics import accuracy_score, f1_score, precision_score, recall_score\n",
    "from imblearn.over_sampling import SMOTE\n",
    "from transformers import AutoTokenizer, AutoModelForSequenceClassification, TrainingArguments\n",
    "from transformers import Trainer, EarlyStoppingCallback\n",
    "from datasets import Dataset, DatasetDict\n",
    "\n",
    "from collections import Counter\n",
    "\n",
    "from utils.path_config import get_data_path\n",
    "from utils.text_cleaning import clean_review_df\n",
    "from utils.data_saving import save_with_rolling_backup\n",
    "from utils.intent_mapping import apply_intent_mapping, inspect_potential_fp"
   ]
  },
  {
   "cell_type": "markdown",
   "id": "6d3cb087",
   "metadata": {},
   "source": [
    "#### Download and Cache Transformer Models (Preload)\n"
   ]
  },
  {
   "cell_type": "code",
   "execution_count": null,
   "id": "f1b22a69",
   "metadata": {},
   "outputs": [
    {
     "name": "stdout",
     "output_type": "stream",
     "text": [
      "Downloading: distilbert-base-uncased\n"
     ]
    },
    {
     "name": "stderr",
     "output_type": "stream",
     "text": [
      "Some weights of DistilBertForSequenceClassification were not initialized from the model checkpoint at distilbert-base-uncased and are newly initialized: ['classifier.bias', 'classifier.weight', 'pre_classifier.bias', 'pre_classifier.weight']\n",
      "You should probably TRAIN this model on a down-stream task to be able to use it for predictions and inference.\n"
     ]
    },
    {
     "name": "stdout",
     "output_type": "stream",
     "text": [
      "Downloading: bert-base-uncased\n"
     ]
    },
    {
     "name": "stderr",
     "output_type": "stream",
     "text": [
      "Some weights of BertForSequenceClassification were not initialized from the model checkpoint at bert-base-uncased and are newly initialized: ['classifier.bias', 'classifier.weight']\n",
      "You should probably TRAIN this model on a down-stream task to be able to use it for predictions and inference.\n"
     ]
    },
    {
     "name": "stdout",
     "output_type": "stream",
     "text": [
      "Downloading: roberta-base\n"
     ]
    },
    {
     "name": "stderr",
     "output_type": "stream",
     "text": [
      "Some weights of RobertaForSequenceClassification were not initialized from the model checkpoint at roberta-base and are newly initialized: ['classifier.dense.bias', 'classifier.dense.weight', 'classifier.out_proj.bias', 'classifier.out_proj.weight']\n",
      "You should probably TRAIN this model on a down-stream task to be able to use it for predictions and inference.\n"
     ]
    },
    {
     "name": "stdout",
     "output_type": "stream",
     "text": [
      "Downloading: microsoft/deberta-v3-small\n"
     ]
    },
    {
     "name": "stderr",
     "output_type": "stream",
     "text": [
      "Some weights of DebertaV2ForSequenceClassification were not initialized from the model checkpoint at microsoft/deberta-v3-small and are newly initialized: ['classifier.bias', 'classifier.weight', 'pooler.dense.bias', 'pooler.dense.weight']\n",
      "You should probably TRAIN this model on a down-stream task to be able to use it for predictions and inference.\n"
     ]
    },
    {
     "name": "stdout",
     "output_type": "stream",
     "text": [
      "Downloading: microsoft/mpnet-base\n"
     ]
    },
    {
     "name": "stderr",
     "output_type": "stream",
     "text": [
      "Some weights of MPNetForSequenceClassification were not initialized from the model checkpoint at microsoft/mpnet-base and are newly initialized: ['classifier.dense.bias', 'classifier.dense.weight', 'classifier.out_proj.bias', 'classifier.out_proj.weight']\n",
      "You should probably TRAIN this model on a down-stream task to be able to use it for predictions and inference.\n"
     ]
    },
    {
     "name": "stdout",
     "output_type": "stream",
     "text": [
      "All models and tokenizers cached locally.\n"
     ]
    }
   ],
   "source": [
    "# Download and cache models and tokenizers\n",
    "model_names = [\n",
    "    \"distilbert-base-uncased\",\n",
    "    \"roberta-base\",\n",
    "    \"microsoft/deberta-v3-small\"\n",
    "\n",
    "]\n",
    "\n",
    "\"\"\"\n",
    "for name in model_names:\n",
    "    print(f\"Downloading: {name}\")\n",
    "    tokenizer = AutoTokenizer.from_pretrained(\"distilbert-base-uncased\", force_download=True) # , force_download=True\n",
    "    model = AutoModelForSequenceClassification.from_pretrained(name, num_labels=8, force_download=True) # , force_download=True\n",
    "print(\"All models and tokenizers cached locally.\")\n",
    "\"\"\"\n"
   ]
  },
  {
   "cell_type": "markdown",
   "id": "fcd2ac7d",
   "metadata": {},
   "source": [
    "### Data import"
   ]
  },
  {
   "cell_type": "code",
   "execution_count": 38,
   "id": "d43b26e7",
   "metadata": {},
   "outputs": [],
   "source": [
    "df = pd.read_csv(get_data_path(\"chatbot_amazon_cleaned_v1.csv\"))\n",
    "df = apply_intent_mapping(df)"
   ]
  },
  {
   "cell_type": "code",
   "execution_count": 39,
   "id": "f6cee7cf",
   "metadata": {},
   "outputs": [
    {
     "name": "stdout",
     "output_type": "stream",
     "text": [
      "Rare classes to merge into 'OTHER': ['PRODUCT_AVAILABILITY', 'TRACK_ORDER', 'FAQ_PAYMENT_METHODS', 'PRODUCT_EXPLAINABILITY', 'FAQ_SHIPPING_TIME', 'GENERIC_GREETING', 'REMOVE_FROM_CART']\n",
      "\n",
      "Rare classes remapped to \"OTHER\" in intent_label_clean.\n"
     ]
    }
   ],
   "source": [
    "def merge_review_and_summary(row):\n",
    "    review = str(row['reviewText']) if pd.notnull(row['reviewText']) else \"\"\n",
    "    summary = str(row['summary']) if pd.notnull(row['summary']) else \"\"\n",
    "    if review and summary:\n",
    "        return f\"{review.strip()}. {summary.strip()}\"\n",
    "    elif review:\n",
    "        return review.strip()\n",
    "    elif summary:\n",
    "        return summary.strip()\n",
    "    else:\n",
    "        return \"\"\n",
    "\n",
    "df['merged_text'] = df.apply(merge_review_and_summary, axis=1)\n",
    "\n",
    "# Filter gold standard\n",
    "gold_df = df[df['confidence_tag'] == \"tier1_both\"].copy()\n",
    "\n",
    "# Set threshold: classes with < threshold samples become \"OTHER\"\n",
    "rare_threshold = 11\n",
    "\n",
    "# 1. Find rare classes automatically on full gold_df\n",
    "class_counts = gold_df['intent_label'].value_counts()\n",
    "rare_classes = class_counts[class_counts < rare_threshold].index.tolist()\n",
    "print(\"Rare classes to merge into 'OTHER':\", rare_classes)\n",
    "\n",
    "# 2. Relabel rare classes everywhere in gold_df\n",
    "gold_df['intent_label_clean'] = gold_df['intent_label'].apply(\n",
    "    lambda x: \"OTHER\" if x in rare_classes else x\n",
    ")\n",
    "print('\\nRare classes remapped to \"OTHER\" in intent_label_clean.')\n"
   ]
  },
  {
   "cell_type": "code",
   "execution_count": 40,
   "id": "b57ebe56",
   "metadata": {},
   "outputs": [
    {
     "name": "stdout",
     "output_type": "stream",
     "text": [
      "['CHECK_SALE_ITEMS' 'CONNECT_TO_AGENT' 'GOODBYE' 'OTHER' 'PRODUCT_SEARCH'\n",
      " 'RETURN_ITEM' 'SENTIMENT_COMPLAINT' 'SENTIMENT_PRAISE'\n",
      " 'VIEW_PRODUCT_DETAILS' 'VIEW_RECOMMENDATIONS']\n"
     ]
    }
   ],
   "source": [
    "# Label Encoding intent labels\n",
    "label_encoder = LabelEncoder()\n",
    "gold_df['intent_label_encoded'] = label_encoder.fit_transform(gold_df['intent_label_clean'])\n",
    "print(label_encoder.classes_)  # Save for decoding later"
   ]
  },
  {
   "cell_type": "code",
   "execution_count": 41,
   "id": "7509036f",
   "metadata": {},
   "outputs": [
    {
     "name": "stdout",
     "output_type": "stream",
     "text": [
      "Encoded value for 'OTHER': 3\n"
     ]
    }
   ],
   "source": [
    "other_encoded = list(label_encoder.classes_).index(\"OTHER\")\n",
    "print(\"Encoded value for 'OTHER':\", other_encoded)"
   ]
  },
  {
   "cell_type": "code",
   "execution_count": 42,
   "id": "67f76306",
   "metadata": {},
   "outputs": [
    {
     "name": "stdout",
     "output_type": "stream",
     "text": [
      "Train: 1614, Val: 346, Test: 346\n"
     ]
    }
   ],
   "source": [
    "# Train, Test and validation split\n",
    "X = gold_df['merged_text']\n",
    "y = gold_df['intent_label_encoded']\n",
    "\n",
    "# First split: train+val vs test\n",
    "X_temp, X_test, y_temp, y_test = train_test_split(\n",
    "    X, y, test_size=0.15, random_state=42, stratify=y\n",
    ")\n",
    "\n",
    "# Second split: train vs val\n",
    "X_train, X_val, y_train, y_val = train_test_split(\n",
    "    X_temp, y_temp, test_size=0.15 / 0.85, random_state=42, stratify=y_temp\n",
    ")\n",
    "\n",
    "print(f\"Train: {X_train.shape[0]}, Val: {X_val.shape[0]}, Test: {X_test.shape[0]}\")"
   ]
  },
  {
   "cell_type": "markdown",
   "id": "61995c1d",
   "metadata": {},
   "source": [
    "### Model \n",
    "#### Logistic Regression Tuned"
   ]
  },
  {
   "cell_type": "code",
   "execution_count": 7,
   "id": "c594752f",
   "metadata": {},
   "outputs": [],
   "source": [
    "# Vectorization using TF-IDF\n",
    "vectorizer = TfidfVectorizer(\n",
    "    lowercase=True,\n",
    "    stop_words='english',\n",
    "    max_features=5000,  # Adjust for memory/accuracy tradeoff\n",
    "    ngram_range=(1,2)   # Unigrams and bigrams\n",
    ")\n",
    "X_train_vec = vectorizer.fit_transform(X_train)\n",
    "X_val_vec   = vectorizer.transform(X_val)\n",
    "X_test_vec  = vectorizer.transform(X_test)\n"
   ]
  },
  {
   "cell_type": "code",
   "execution_count": 8,
   "id": "5edcfb63",
   "metadata": {},
   "outputs": [
    {
     "name": "stdout",
     "output_type": "stream",
     "text": [
      "Fitting 3 folds for each of 10 candidates, totalling 30 fits\n",
      "Best params: {'C': 0.1, 'class_weight': 'balanced', 'max_iter': 1000, 'penalty': 'l2', 'solver': 'lbfgs'}\n",
      "                      precision    recall  f1-score   support\n",
      "\n",
      "    CHECK_SALE_ITEMS       0.89      0.80      0.84        10\n",
      "    CONNECT_TO_AGENT       1.00      0.78      0.88         9\n",
      "             GOODBYE       1.00      1.00      1.00         7\n",
      "               OTHER       1.00      0.67      0.80         3\n",
      "      PRODUCT_SEARCH       0.94      0.96      0.95       140\n",
      "         RETURN_ITEM       1.00      1.00      1.00        15\n",
      " SENTIMENT_COMPLAINT       0.91      0.95      0.93        22\n",
      "    SENTIMENT_PRAISE       0.97      0.97      0.97       116\n",
      "VIEW_PRODUCT_DETAILS       0.50      0.75      0.60         4\n",
      "VIEW_RECOMMENDATIONS       1.00      1.00      1.00        20\n",
      "\n",
      "            accuracy                           0.95       346\n",
      "           macro avg       0.92      0.89      0.90       346\n",
      "        weighted avg       0.95      0.95      0.95       346\n",
      "\n"
     ]
    }
   ],
   "source": [
    "param_grid = {\n",
    "    'C': [0.01, 0.1, 1, 5, 10],\n",
    "    'penalty': ['l2'],\n",
    "    'solver': ['lbfgs'],\n",
    "    'class_weight': ['balanced'],\n",
    "    'max_iter': [1000, 2000]\n",
    "}\n",
    "\n",
    "gs = GridSearchCV(\n",
    "    LogisticRegression(random_state=42),\n",
    "    param_grid,\n",
    "    cv=3,\n",
    "    scoring='f1_macro',\n",
    "    n_jobs=-1,\n",
    "    verbose=2\n",
    ")\n",
    "gs.fit(X_train_vec, y_train)\n",
    "print(\"Best params:\", gs.best_params_)\n",
    "\n",
    "# Evaluate on val\n",
    "best_lr = gs.best_estimator_\n",
    "val_preds_gs = best_lr.predict(X_val_vec)\n",
    "print(classification_report(y_val, val_preds_gs, target_names=label_encoder.classes_))\n"
   ]
  },
  {
   "cell_type": "code",
   "execution_count": 9,
   "id": "65a64eb9",
   "metadata": {},
   "outputs": [
    {
     "data": {
      "image/png": "[encoded data removed]",
      "text/plain": [
       "<Figure size 800x600 with 2 Axes>"
      ]
     },
     "metadata": {},
     "output_type": "display_data"
    }
   ],
   "source": [
    "cm = confusion_matrix(y_val, val_preds_gs)\n",
    "plt.figure(figsize=(8,6))\n",
    "sns.heatmap(cm, annot=True, fmt='d', xticklabels=label_encoder.classes_, yticklabels=label_encoder.classes_, cmap=\"Blues\")\n",
    "plt.ylabel('Actual')\n",
    "plt.xlabel('Predicted')\n",
    "plt.title('Validation Confusion Matrix')\n",
    "plt.show()"
   ]
  },
  {
   "cell_type": "markdown",
   "id": "a108279c",
   "metadata": {},
   "source": [
    "#### Phase 3: Transformer-Based Intent Classifier\n"
   ]
  },
  {
   "cell_type": "code",
   "execution_count": null,
   "id": "7d24a11b",
   "metadata": {},
   "outputs": [],
   "source": [
    "# ================================================\n",
    "# \n",
    "# ================================================"
   ]
  },
  {
   "cell_type": "code",
   "execution_count": 11,
   "id": "a425176a",
   "metadata": {},
   "outputs": [],
   "source": [
    "# ------------------------------------------------\n",
    "# 1. Load DistilBERT Tokenizer and Model\n",
    "# ------------------------------------------------\n",
    "\n",
    "# Choose base model name (can be reused for other models later)\n",
    "tokenizer_name = \"distilbert-base-uncased\"\n",
    "tokenizer = AutoTokenizer.from_pretrained(tokenizer_name)\n",
    "\n",
    "# Tokenization function for Hugging Face Datasets\n",
    "def tokenize_function(example):\n",
    "    return tokenizer(\n",
    "        example[\"merged_text\"],\n",
    "        padding=\"max_length\",    # Pad all to same length (required for batching)\n",
    "        truncation=True,         # Truncate long reviews to max_length\n",
    "        max_length=128           # Safe default; we can tune this later\n",
    "    )"
   ]
  },
  {
   "cell_type": "code",
   "execution_count": 12,
   "id": "990bb226",
   "metadata": {},
   "outputs": [],
   "source": [
    "# ------------------------------------------------\n",
    "# 2. Convert Train / Val / Test into Hugging Face DatasetDict\n",
    "# ------------------------------------------------\n",
    "\n",
    "# Combine text and label into new dataframes\n",
    "train_df = pd.DataFrame({\"merged_text\": X_train, \"label\": y_train})\n",
    "val_df   = pd.DataFrame({\"merged_text\": X_val, \"label\": y_val})\n",
    "test_df  = pd.DataFrame({\"merged_text\": X_test, \"label\": y_test})\n",
    "\n",
    "# Create Hugging Face Datasets\n",
    "raw_datasets = DatasetDict({\n",
    "    \"train\": Dataset.from_pandas(train_df),\n",
    "    \"validation\": Dataset.from_pandas(val_df),\n",
    "    \"test\": Dataset.from_pandas(test_df)\n",
    "})\n"
   ]
  },
  {
   "cell_type": "code",
   "execution_count": null,
   "id": "3c79334a",
   "metadata": {},
   "outputs": [
    {
     "data": {
      "application/vnd.jupyter.widget-view+json": {
       "model_id": "5ee91a9ce1ba4a56a3af64d08fd46192",
       "version_major": 2,
       "version_minor": 0
      },
      "text/plain": [
       "Map:   0%|          | 0/1614 [00:00<?, ? examples/s]"
      ]
     },
     "metadata": {},
     "output_type": "display_data"
    },
    {
     "data": {
      "application/vnd.jupyter.widget-view+json": {
       "model_id": "b76d7a05e9ab428db29d278e87d55ae9",
       "version_major": 2,
       "version_minor": 0
      },
      "text/plain": [
       "Map:   0%|          | 0/346 [00:00<?, ? examples/s]"
      ]
     },
     "metadata": {},
     "output_type": "display_data"
    },
    {
     "data": {
      "application/vnd.jupyter.widget-view+json": {
       "model_id": "a7a9fa912b404b8890a68c7fa44e19f0",
       "version_major": 2,
       "version_minor": 0
      },
      "text/plain": [
       "Map:   0%|          | 0/346 [00:00<?, ? examples/s]"
      ]
     },
     "metadata": {},
     "output_type": "display_data"
    }
   ],
   "source": [
    "# ------------------------------------------------\n",
    "# 3. Tokenize and Format Datasets\n",
    "# ------------------------------------------------\n",
    "\n",
    "# Apply tokenizer to each split using batching\n",
    "tokenized_datasets = raw_datasets.map(tokenize_function, batched=True)\n",
    "\n",
    "# Set format for PyTorch (input_ids, attention_mask, and label required by Trainer)\n",
    "tokenized_datasets.set_format(type=\"torch\", columns=[\"input_ids\", \"attention_mask\", \"label\"])\n",
    "\n",
    "# Set train, validation, and test datasets\n",
    "train_dataset = tokenized_datasets[\"train\"]\n",
    "val_dataset   = tokenized_datasets[\"validation\"]\n",
    "test_dataset  = tokenized_datasets[\"test\"]"
   ]
  },
  {
   "cell_type": "code",
   "execution_count": null,
   "id": "18a4f5d1",
   "metadata": {},
   "outputs": [
    {
     "name": "stderr",
     "output_type": "stream",
     "text": [
      "Some weights of DistilBertForSequenceClassification were not initialized from the model checkpoint at distilbert-base-uncased and are newly initialized: ['classifier.bias', 'classifier.weight', 'pre_classifier.bias', 'pre_classifier.weight']\n",
      "You should probably TRAIN this model on a down-stream task to be able to use it for predictions and inference.\n"
     ]
    }
   ],
   "source": [
    "# ------------------------------------------------\n",
    "# 4. Define TrainingArguments and Load DistilBERT Model\n",
    "# ------------------------------------------------\n",
    "\n",
    "\n",
    "# Load DistilBERT model with number of labels based on label encoder\n",
    "num_labels = len(label_encoder.classes_)\n",
    "model = AutoModelForSequenceClassification.from_pretrained(tokenizer_name, num_labels=num_labels)\n",
    "\n",
    "# Define training arguments\n",
    "training_args = TrainingArguments(\n",
    "    output_dir=\"./models/distilbert-intent\",         # Where to save model checkpoints\n",
    "    eval_strategy=\"epoch\",                     # Run eval at the end of each epoch\n",
    "    save_strategy=\"epoch\",                           # Save model after each epoch\n",
    "    learning_rate=2e-5,\n",
    "    per_device_train_batch_size=16,\n",
    "    per_device_eval_batch_size=32,\n",
    "    num_train_epochs=6,                     # Reduced for faster training and optimal performance\n",
    "    weight_decay=0.01,\n",
    "    logging_dir=\"./logs/distilbert\",                 # Where to store logs\n",
    "    load_best_model_at_end=True,                     # Retain best based on eval loss\n",
    "    metric_for_best_model=\"f1\",                      # We'll define this later\n",
    "    greater_is_better=True                           # F1 should be maximized\n",
    ")\n"
   ]
  },
  {
   "cell_type": "code",
   "execution_count": null,
   "id": "b35815b1",
   "metadata": {},
   "outputs": [],
   "source": [
    "# --------------------------------------------\n",
    "# 5. Define compute_metrics for Evaluation\n",
    "# --------------------------------------------\n",
    "\n",
    "\n",
    "\n",
    "def compute_metrics(eval_pred):\n",
    "    logits, labels = eval_pred\n",
    "    preds = logits.argmax(axis=1)\n",
    "    \n",
    "    return {\n",
    "        \"accuracy\": accuracy_score(labels, preds),\n",
    "        \"f1\": f1_score(labels, preds, average=\"macro\"),\n",
    "        \"precision\": precision_score(labels, preds, average=\"macro\", zero_division=0),\n",
    "        \"recall\": recall_score(labels, preds, average=\"macro\", zero_division=0),\n",
    "    }\n"
   ]
  },
  {
   "cell_type": "code",
   "execution_count": 21,
   "id": "4ad066e4",
   "metadata": {},
   "outputs": [
    {
     "name": "stderr",
     "output_type": "stream",
     "text": [
      "C:\\Users\\abhay\\AppData\\Local\\Temp\\ipykernel_7884\\3778399457.py:10: FutureWarning: `tokenizer` is deprecated and will be removed in version 5.0.0 for `Trainer.__init__`. Use `processing_class` instead.\n",
      "  trainer = Trainer(\n",
      "c:\\Users\\abhay\\AppData\\Local\\Programs\\Python\\Python310\\lib\\site-packages\\torch\\utils\\data\\dataloader.py:665: UserWarning: 'pin_memory' argument is set as true but no accelerator is found, then device pinned memory won't be used.\n",
      "  warnings.warn(warn_msg)\n"
     ]
    },
    {
     "data": {
      "text/html": [
       "\n",
       "    <div>\n",
       "      \n",
       "      <progress value='808' max='808' style='width:300px; height:20px; vertical-align: middle;'></progress>\n",
       "      [808/808 1:29:47, Epoch 8/8]\n",
       "    </div>\n",
       "    <table border=\"1\" class=\"dataframe\">\n",
       "  <thead>\n",
       " <tr style=\"text-align: left;\">\n",
       "      <th>Epoch</th>\n",
       "      <th>Training Loss</th>\n",
       "      <th>Validation Loss</th>\n",
       "      <th>Accuracy</th>\n",
       "      <th>F1</th>\n",
       "      <th>Precision</th>\n",
       "      <th>Recall</th>\n",
       "    </tr>\n",
       "  </thead>\n",
       "  <tbody>\n",
       "    <tr>\n",
       "      <td>1</td>\n",
       "      <td>No log</td>\n",
       "      <td>0.626643</td>\n",
       "      <td>0.869942</td>\n",
       "      <td>0.429382</td>\n",
       "      <td>0.410509</td>\n",
       "      <td>0.454416</td>\n",
       "    </tr>\n",
       "    <tr>\n",
       "      <td>2</td>\n",
       "      <td>No log</td>\n",
       "      <td>0.256274</td>\n",
       "      <td>0.953757</td>\n",
       "      <td>0.738132</td>\n",
       "      <td>0.731796</td>\n",
       "      <td>0.746645</td>\n",
       "    </tr>\n",
       "    <tr>\n",
       "      <td>3</td>\n",
       "      <td>No log</td>\n",
       "      <td>0.173505</td>\n",
       "      <td>0.953757</td>\n",
       "      <td>0.799302</td>\n",
       "      <td>0.825452</td>\n",
       "      <td>0.791385</td>\n",
       "    </tr>\n",
       "    <tr>\n",
       "      <td>4</td>\n",
       "      <td>No log</td>\n",
       "      <td>0.136436</td>\n",
       "      <td>0.965318</td>\n",
       "      <td>0.849339</td>\n",
       "      <td>0.839801</td>\n",
       "      <td>0.861385</td>\n",
       "    </tr>\n",
       "    <tr>\n",
       "      <td>5</td>\n",
       "      <td>0.405900</td>\n",
       "      <td>0.121884</td>\n",
       "      <td>0.965318</td>\n",
       "      <td>0.888307</td>\n",
       "      <td>0.891229</td>\n",
       "      <td>0.890173</td>\n",
       "    </tr>\n",
       "    <tr>\n",
       "      <td>6</td>\n",
       "      <td>0.405900</td>\n",
       "      <td>0.122740</td>\n",
       "      <td>0.971098</td>\n",
       "      <td>0.898197</td>\n",
       "      <td>0.896429</td>\n",
       "      <td>0.900887</td>\n",
       "    </tr>\n",
       "    <tr>\n",
       "      <td>7</td>\n",
       "      <td>0.405900</td>\n",
       "      <td>0.114049</td>\n",
       "      <td>0.971098</td>\n",
       "      <td>0.897857</td>\n",
       "      <td>0.893172</td>\n",
       "      <td>0.904719</td>\n",
       "    </tr>\n",
       "    <tr>\n",
       "      <td>8</td>\n",
       "      <td>0.405900</td>\n",
       "      <td>0.115950</td>\n",
       "      <td>0.971098</td>\n",
       "      <td>0.897857</td>\n",
       "      <td>0.893172</td>\n",
       "      <td>0.904719</td>\n",
       "    </tr>\n",
       "  </tbody>\n",
       "</table><p>"
      ],
      "text/plain": [
       "<IPython.core.display.HTML object>"
      ]
     },
     "metadata": {},
     "output_type": "display_data"
    },
    {
     "name": "stderr",
     "output_type": "stream",
     "text": [
      "c:\\Users\\abhay\\AppData\\Local\\Programs\\Python\\Python310\\lib\\site-packages\\torch\\utils\\data\\dataloader.py:665: UserWarning: 'pin_memory' argument is set as true but no accelerator is found, then device pinned memory won't be used.\n",
      "  warnings.warn(warn_msg)\n",
      "c:\\Users\\abhay\\AppData\\Local\\Programs\\Python\\Python310\\lib\\site-packages\\torch\\utils\\data\\dataloader.py:665: UserWarning: 'pin_memory' argument is set as true but no accelerator is found, then device pinned memory won't be used.\n",
      "  warnings.warn(warn_msg)\n",
      "c:\\Users\\abhay\\AppData\\Local\\Programs\\Python\\Python310\\lib\\site-packages\\torch\\utils\\data\\dataloader.py:665: UserWarning: 'pin_memory' argument is set as true but no accelerator is found, then device pinned memory won't be used.\n",
      "  warnings.warn(warn_msg)\n",
      "c:\\Users\\abhay\\AppData\\Local\\Programs\\Python\\Python310\\lib\\site-packages\\torch\\utils\\data\\dataloader.py:665: UserWarning: 'pin_memory' argument is set as true but no accelerator is found, then device pinned memory won't be used.\n",
      "  warnings.warn(warn_msg)\n",
      "c:\\Users\\abhay\\AppData\\Local\\Programs\\Python\\Python310\\lib\\site-packages\\torch\\utils\\data\\dataloader.py:665: UserWarning: 'pin_memory' argument is set as true but no accelerator is found, then device pinned memory won't be used.\n",
      "  warnings.warn(warn_msg)\n",
      "c:\\Users\\abhay\\AppData\\Local\\Programs\\Python\\Python310\\lib\\site-packages\\torch\\utils\\data\\dataloader.py:665: UserWarning: 'pin_memory' argument is set as true but no accelerator is found, then device pinned memory won't be used.\n",
      "  warnings.warn(warn_msg)\n",
      "c:\\Users\\abhay\\AppData\\Local\\Programs\\Python\\Python310\\lib\\site-packages\\torch\\utils\\data\\dataloader.py:665: UserWarning: 'pin_memory' argument is set as true but no accelerator is found, then device pinned memory won't be used.\n",
      "  warnings.warn(warn_msg)\n"
     ]
    },
    {
     "data": {
      "text/plain": [
       "TrainOutput(global_step=808, training_loss=0.2625322932063943, metrics={'train_runtime': 5403.4928, 'train_samples_per_second': 2.39, 'train_steps_per_second': 0.15, 'total_flos': 427665768652800.0, 'train_loss': 0.2625322932063943, 'epoch': 8.0})"
      ]
     },
     "execution_count": 21,
     "metadata": {},
     "output_type": "execute_result"
    }
   ],
   "source": [
    "# ------------------------------------------------\n",
    "# 6. Create Trainer and Train the Model\n",
    "# ------------------------------------------------\n",
    "\n",
    "\"\"\"\n",
    "train_dataset = tokenized_datasets[\"train\"]\n",
    "val_dataset   = tokenized_datasets[\"validation\"]\n",
    "test_dataset  = tokenized_datasets[\"test\"] \n",
    "\"\"\"\n",
    "trainer = Trainer(\n",
    "    model=model,\n",
    "    args=training_args,\n",
    "    train_dataset=train_dataset,\n",
    "    eval_dataset=val_dataset,\n",
    "    tokenizer=tokenizer,                 # Optional but helpful for logging\n",
    "    compute_metrics=compute_metrics\n",
    ")\n",
    "trainer.train()"
   ]
  },
  {
   "cell_type": "code",
   "execution_count": 22,
   "id": "43bf4d5c",
   "metadata": {},
   "outputs": [
    {
     "name": "stderr",
     "output_type": "stream",
     "text": [
      "c:\\Users\\abhay\\AppData\\Local\\Programs\\Python\\Python310\\lib\\site-packages\\torch\\utils\\data\\dataloader.py:665: UserWarning: 'pin_memory' argument is set as true but no accelerator is found, then device pinned memory won't be used.\n",
      "  warnings.warn(warn_msg)\n"
     ]
    },
    {
     "data": {
      "text/html": [],
      "text/plain": [
       "<IPython.core.display.HTML object>"
      ]
     },
     "metadata": {},
     "output_type": "display_data"
    },
    {
     "name": "stdout",
     "output_type": "stream",
     "text": [
      "\n",
      "Classification Report (Test Set):\n",
      "                      precision    recall  f1-score   support\n",
      "\n",
      "    CHECK_SALE_ITEMS       0.82      0.90      0.86        10\n",
      "    CONNECT_TO_AGENT       1.00      1.00      1.00         9\n",
      "             GOODBYE       1.00      0.71      0.83         7\n",
      "               OTHER       0.50      0.33      0.40         3\n",
      "      PRODUCT_SEARCH       0.98      0.99      0.98       140\n",
      "         RETURN_ITEM       1.00      1.00      1.00        15\n",
      " SENTIMENT_COMPLAINT       1.00      0.91      0.95        22\n",
      "    SENTIMENT_PRAISE       0.98      0.99      0.99       116\n",
      "VIEW_PRODUCT_DETAILS       0.60      0.75      0.67         4\n",
      "VIEW_RECOMMENDATIONS       0.95      1.00      0.98        20\n",
      "\n",
      "            accuracy                           0.97       346\n",
      "           macro avg       0.88      0.86      0.87       346\n",
      "        weighted avg       0.97      0.97      0.97       346\n",
      "\n"
     ]
    },
    {
     "data": {
      "image/png": "[encoded data removed]",
      "text/plain": [
       "<Figure size 1000x700 with 2 Axes>"
      ]
     },
     "metadata": {},
     "output_type": "display_data"
    }
   ],
   "source": [
    "# ------------------------------------------------\n",
    "# 7. Evaluate Trained Model on Test Set\n",
    "# ------------------------------------------------\n",
    "\n",
    "# Make predictions\n",
    "test_results = trainer.predict(test_dataset)\n",
    "\n",
    "# Extract predictions and labels\n",
    "preds = np.argmax(test_results.predictions, axis=1)\n",
    "true  = test_results.label_ids\n",
    "\n",
    "# Classification Report\n",
    "print(\"\\nClassification Report (Test Set):\")\n",
    "print(classification_report(true, preds, target_names=label_encoder.classes_))\n",
    "\n",
    "# Confusion Matrix\n",
    "cm = confusion_matrix(true, preds)\n",
    "\n",
    "plt.figure(figsize=(10, 7))\n",
    "sns.heatmap(cm, annot=True, fmt='d', cmap=\"Blues\", xticklabels=label_encoder.classes_, yticklabels=label_encoder.classes_)\n",
    "plt.xlabel(\"Predicted Label\")\n",
    "plt.ylabel(\"True Label\")\n",
    "plt.title(\"Test Set Confusion Matrix\")\n",
    "plt.tight_layout()\n",
    "plt.show()\n"
   ]
  },
  {
   "cell_type": "code",
   "execution_count": 24,
   "id": "dd244cee",
   "metadata": {},
   "outputs": [
    {
     "name": "stderr",
     "output_type": "stream",
     "text": [
      "c:\\Users\\abhay\\AppData\\Local\\Programs\\Python\\Python310\\lib\\site-packages\\torch\\utils\\data\\dataloader.py:665: UserWarning: 'pin_memory' argument is set as true but no accelerator is found, then device pinned memory won't be used.\n",
      "  warnings.warn(warn_msg)\n"
     ]
    },
    {
     "data": {
      "text/html": [],
      "text/plain": [
       "<IPython.core.display.HTML object>"
      ]
     },
     "metadata": {},
     "output_type": "display_data"
    }
   ],
   "source": [
    "# Predict on test set\n",
    "preds_output = trainer.predict(tokenized_datasets[\"test\"])\n",
    "y_true = preds_output.label_ids\n",
    "y_pred = preds_output.predictions.argmax(axis=1)\n",
    "\n",
    "# Convert numeric labels to original intent strings\n",
    "true_intents = label_encoder.inverse_transform(y_true)\n",
    "predicted_intents = label_encoder.inverse_transform(y_pred)\n"
   ]
  },
  {
   "cell_type": "code",
   "execution_count": 27,
   "id": "324221a0",
   "metadata": {},
   "outputs": [
    {
     "data": {
      "application/vnd.microsoft.datawrangler.viewer.v0+json": {
       "columns": [
        {
         "name": "index",
         "rawType": "object",
         "type": "string"
        },
        {
         "name": "Count",
         "rawType": "int64",
         "type": "integer"
        }
       ],
       "ref": "4c7c9734-d7c3-4775-8bdd-2ed96b7e149a",
       "rows": [
        [
         "PRODUCT_SEARCH",
         "140"
        ],
        [
         "SENTIMENT_PRAISE",
         "116"
        ],
        [
         "SENTIMENT_COMPLAINT",
         "22"
        ],
        [
         "VIEW_RECOMMENDATIONS",
         "20"
        ],
        [
         "RETURN_ITEM",
         "15"
        ],
        [
         "CHECK_SALE_ITEMS",
         "10"
        ],
        [
         "CONNECT_TO_AGENT",
         "9"
        ],
        [
         "GOODBYE",
         "7"
        ],
        [
         "VIEW_PRODUCT_DETAILS",
         "4"
        ],
        [
         "OTHER",
         "3"
        ]
       ],
       "shape": {
        "columns": 1,
        "rows": 10
       }
      },
      "text/html": [
       "<div>\n",
       "<style scoped>\n",
       "    .dataframe tbody tr th:only-of-type {\n",
       "        vertical-align: middle;\n",
       "    }\n",
       "\n",
       "    .dataframe tbody tr th {\n",
       "        vertical-align: top;\n",
       "    }\n",
       "\n",
       "    .dataframe thead th {\n",
       "        text-align: right;\n",
       "    }\n",
       "</style>\n",
       "<table border=\"1\" class=\"dataframe\">\n",
       "  <thead>\n",
       "    <tr style=\"text-align: right;\">\n",
       "      <th></th>\n",
       "      <th>Count</th>\n",
       "    </tr>\n",
       "  </thead>\n",
       "  <tbody>\n",
       "    <tr>\n",
       "      <th>PRODUCT_SEARCH</th>\n",
       "      <td>140</td>\n",
       "    </tr>\n",
       "    <tr>\n",
       "      <th>SENTIMENT_PRAISE</th>\n",
       "      <td>116</td>\n",
       "    </tr>\n",
       "    <tr>\n",
       "      <th>SENTIMENT_COMPLAINT</th>\n",
       "      <td>22</td>\n",
       "    </tr>\n",
       "    <tr>\n",
       "      <th>VIEW_RECOMMENDATIONS</th>\n",
       "      <td>20</td>\n",
       "    </tr>\n",
       "    <tr>\n",
       "      <th>RETURN_ITEM</th>\n",
       "      <td>15</td>\n",
       "    </tr>\n",
       "    <tr>\n",
       "      <th>CHECK_SALE_ITEMS</th>\n",
       "      <td>10</td>\n",
       "    </tr>\n",
       "    <tr>\n",
       "      <th>CONNECT_TO_AGENT</th>\n",
       "      <td>9</td>\n",
       "    </tr>\n",
       "    <tr>\n",
       "      <th>GOODBYE</th>\n",
       "      <td>7</td>\n",
       "    </tr>\n",
       "    <tr>\n",
       "      <th>VIEW_PRODUCT_DETAILS</th>\n",
       "      <td>4</td>\n",
       "    </tr>\n",
       "    <tr>\n",
       "      <th>OTHER</th>\n",
       "      <td>3</td>\n",
       "    </tr>\n",
       "  </tbody>\n",
       "</table>\n",
       "</div>"
      ],
      "text/plain": [
       "                      Count\n",
       "PRODUCT_SEARCH          140\n",
       "SENTIMENT_PRAISE        116\n",
       "SENTIMENT_COMPLAINT      22\n",
       "VIEW_RECOMMENDATIONS     20\n",
       "RETURN_ITEM              15\n",
       "CHECK_SALE_ITEMS         10\n",
       "CONNECT_TO_AGENT          9\n",
       "GOODBYE                   7\n",
       "VIEW_PRODUCT_DETAILS      4\n",
       "OTHER                     3"
      ]
     },
     "execution_count": 27,
     "metadata": {},
     "output_type": "execute_result"
    }
   ],
   "source": [
    "from collections import Counter\n",
    "import pandas as pd\n",
    "\n",
    "# Count how many times each intent appears in the test set\n",
    "intent_counts = Counter(true_intents)\n",
    "\n",
    "# Convert to DataFrame for easier viewing\n",
    "intent_freq_df = pd.DataFrame.from_dict(intent_counts, orient=\"index\", columns=[\"Count\"])\n",
    "intent_freq_df = intent_freq_df.sort_values(\"Count\", ascending=False)\n",
    "\n",
    "intent_freq_df.head(10)\n",
    "\n"
   ]
  },
  {
   "cell_type": "code",
   "execution_count": 28,
   "id": "6c9fdc51",
   "metadata": {},
   "outputs": [
    {
     "data": {
      "application/vnd.jupyter.widget-view+json": {
       "model_id": "05e933b6935b4f00949daf24c49bf080",
       "version_major": 2,
       "version_minor": 0
      },
      "text/plain": [
       "Map:   0%|          | 0/1614 [00:00<?, ? examples/s]"
      ]
     },
     "metadata": {},
     "output_type": "display_data"
    },
    {
     "data": {
      "application/vnd.jupyter.widget-view+json": {
       "model_id": "8b2e54436d984fcca656e9a4a74023b4",
       "version_major": 2,
       "version_minor": 0
      },
      "text/plain": [
       "Map:   0%|          | 0/346 [00:00<?, ? examples/s]"
      ]
     },
     "metadata": {},
     "output_type": "display_data"
    },
    {
     "data": {
      "application/vnd.jupyter.widget-view+json": {
       "model_id": "8ef47b8a81514bb89e10ce511e977c05",
       "version_major": 2,
       "version_minor": 0
      },
      "text/plain": [
       "Map:   0%|          | 0/346 [00:00<?, ? examples/s]"
      ]
     },
     "metadata": {},
     "output_type": "display_data"
    }
   ],
   "source": [
    "# Re-tokenize after updating raw_datasets[\"train\"]\n",
    "tokenized_datasets = raw_datasets.map(tokenize_function, batched=True)\n",
    "tokenized_datasets.set_format(type=\"torch\", columns=[\"input_ids\", \"attention_mask\", \"label\"])\n"
   ]
  },
  {
   "cell_type": "markdown",
   "id": "44de9c29",
   "metadata": {},
   "source": [
    "## Phase 3 Summary – DistilBERT Training + VIEW_PRODUCT_DETAILS Fix\n",
    "\n",
    "- Trained `distilbert-base-uncased` model using tokenized HF dataset\n",
    "- Achieved performance:\n",
    "  - Weighted F1: 0.97\n",
    "  - Macro F1: 0.87\n",
    "  - Accuracy: ~97%\n",
    "- Identified low-performing intent: `VIEW_PRODUCT_DETAILS`\n",
    "- Applied improvements:\n",
    "  - Added 15 synthetic training examples (diverse, intent-specific)\n",
    "  - Re-tokenized dataset to include new samples\n",
    "  - Updated `intent_keywords` for runtime disambiguation support\n",
    "  - Flagged fallback logic as a future safety net (Phase 4)"
   ]
  },
  {
   "cell_type": "code",
   "execution_count": null,
   "id": "9b142777",
   "metadata": {},
   "outputs": [],
   "source": []
  },
  {
   "cell_type": "markdown",
   "id": "28e99ea4",
   "metadata": {},
   "source": [
    "## Phase 3.1 – RoBERTa Training (Next)\n",
    "\n",
    "**Goal**: Train `roberta-base` on the improved dataset  \n",
    "**Key features**:\n",
    "- More context-aware embedding model (vs. DistilBERT)\n",
    "- Uses same tokenizer format with better linguistic modeling\n",
    "\n",
    "**To do**:\n",
    "- Load tokenizer & model for `roberta-base`\n",
    "- Use dynamic `TrainingArguments` (custom batch size, epochs)\n",
    "- Apply early stopping manually via metric trends\n",
    "- Evaluate & log results (accuracy, F1, confusion matrix)\n"
   ]
  },
  {
   "cell_type": "code",
   "execution_count": 43,
   "id": "ccd94857",
   "metadata": {},
   "outputs": [
    {
     "data": {
      "application/vnd.jupyter.widget-view+json": {
       "model_id": "29ea27b1682045608e4844e800fe9876",
       "version_major": 2,
       "version_minor": 0
      },
      "text/plain": [
       "Map:   0%|          | 0/1614 [00:00<?, ? examples/s]"
      ]
     },
     "metadata": {},
     "output_type": "display_data"
    },
    {
     "data": {
      "application/vnd.jupyter.widget-view+json": {
       "model_id": "c89fb39590b2412983393fbde9347106",
       "version_major": 2,
       "version_minor": 0
      },
      "text/plain": [
       "Map:   0%|          | 0/346 [00:00<?, ? examples/s]"
      ]
     },
     "metadata": {},
     "output_type": "display_data"
    },
    {
     "data": {
      "application/vnd.jupyter.widget-view+json": {
       "model_id": "a306b8de7a694f5ea565de99dec56bf1",
       "version_major": 2,
       "version_minor": 0
      },
      "text/plain": [
       "Map:   0%|          | 0/346 [00:00<?, ? examples/s]"
      ]
     },
     "metadata": {},
     "output_type": "display_data"
    }
   ],
   "source": [
    "# Convert pandas splits to Hugging Face Datasets\n",
    "raw_datasets = DatasetDict({\n",
    "    \"train\": Dataset.from_pandas(pd.DataFrame({\"merged_text\": X_train, \"label\": y_train})),\n",
    "    \"validation\": Dataset.from_pandas(pd.DataFrame({\"merged_text\": X_val, \"label\": y_val})),\n",
    "    \"test\": Dataset.from_pandas(pd.DataFrame({\"merged_text\": X_test, \"label\": y_test}))\n",
    "})\n",
    "\n",
    "# Tokenize all splits\n",
    "tokenized_datasets = raw_datasets.map(\n",
    "    tokenize_function,\n",
    "    batched=True,\n",
    "    load_from_cache_file=False  # Forces tokenization to run fresh\n",
    ")\n",
    "\n",
    "# Format for PyTorch\n",
    "tokenized_datasets.set_format(type=\"torch\", columns=[\"input_ids\", \"attention_mask\", \"label\"])"
   ]
  },
  {
   "cell_type": "code",
   "execution_count": 44,
   "id": "00673d53",
   "metadata": {},
   "outputs": [
    {
     "name": "stderr",
     "output_type": "stream",
     "text": [
      "Some weights of RobertaForSequenceClassification were not initialized from the model checkpoint at roberta-base and are newly initialized: ['classifier.dense.bias', 'classifier.dense.weight', 'classifier.out_proj.bias', 'classifier.out_proj.weight']\n",
      "You should probably TRAIN this model on a down-stream task to be able to use it for predictions and inference.\n"
     ]
    }
   ],
   "source": [
    "# Define model name\n",
    "model_name = \"roberta-base\"\n",
    "\n",
    "# Load tokenizer\n",
    "tokenizer = AutoTokenizer.from_pretrained(model_name)\n",
    "\n",
    "# Define number of labels based on the same label encoder used earlier\n",
    "num_labels = len(label_encoder.classes_)\n",
    "\n",
    "# Load model with correct number of output classes\n",
    "model = AutoModelForSequenceClassification.from_pretrained(model_name, num_labels=num_labels)"
   ]
  },
  {
   "cell_type": "code",
   "execution_count": 45,
   "id": "410e2c05",
   "metadata": {},
   "outputs": [],
   "source": [
    "from transformers import TrainingArguments\n",
    "\n",
    "# Dynamic settings specific to RoBERTa\n",
    "model_output_dir = f\"./models/{model_name.replace('/', '_')}\"\n",
    "log_dir = f\"./logs/{model_name.replace('/', '_')}\"\n",
    "\n",
    "training_args = TrainingArguments(\n",
    "    output_dir=model_output_dir,\n",
    "    eval_strategy=\"epoch\",               # Evaluate every epoch\n",
    "    save_strategy=\"epoch\",                     # Save checkpoint every epoch\n",
    "    learning_rate=2e-5,\n",
    "    per_device_train_batch_size=16,            # Lower batch size for heavier model\n",
    "    per_device_eval_batch_size=32,\n",
    "    num_train_epochs=8,                        # early-stopping applied\n",
    "    weight_decay=0.01,\n",
    "    load_best_model_at_end=True,\n",
    "    metric_for_best_model=\"f1\",\n",
    "    greater_is_better=True,\n",
    "    logging_dir=log_dir,\n",
    "    logging_steps=20,\n",
    "    save_total_limit=2                         # Save space\n",
    ")\n"
   ]
  },
  {
   "cell_type": "code",
   "execution_count": 46,
   "id": "9e76e1eb",
   "metadata": {},
   "outputs": [],
   "source": [
    "# Define metric computation function\n",
    "def compute_metrics(eval_pred):\n",
    "    logits, labels = eval_pred\n",
    "    preds = logits.argmax(axis=1)\n",
    "    return {\n",
    "        \"accuracy\": accuracy_score(labels, preds),\n",
    "        \"f1\": f1_score(labels, preds, average=\"weighted\"),\n",
    "        \"precision\": precision_score(labels, preds, average=\"weighted\"),\n",
    "        \"recall\": recall_score(labels, preds, average=\"weighted\")\n",
    "    }\n",
    "\n",
    "# Define Trainer\n",
    "trainer = Trainer(\n",
    "    model=model,\n",
    "    args=training_args,\n",
    "    train_dataset=tokenized_datasets[\"train\"],\n",
    "    eval_dataset=tokenized_datasets[\"validation\"],\n",
    "    compute_metrics=compute_metrics,\n",
    "    callbacks=[EarlyStoppingCallback(early_stopping_patience=2)]\n",
    ")\n"
   ]
  },
  {
   "cell_type": "code",
   "execution_count": 47,
   "id": "723290b5",
   "metadata": {},
   "outputs": [
    {
     "name": "stderr",
     "output_type": "stream",
     "text": [
      "c:\\Users\\abhay\\AppData\\Local\\Programs\\Python\\Python310\\lib\\site-packages\\torch\\utils\\data\\dataloader.py:665: UserWarning: 'pin_memory' argument is set as true but no accelerator is found, then device pinned memory won't be used.\n",
      "  warnings.warn(warn_msg)\n"
     ]
    },
    {
     "data": {
      "text/html": [
       "\n",
       "    <div>\n",
       "      \n",
       "      <progress value='707' max='808' style='width:300px; height:20px; vertical-align: middle;'></progress>\n",
       "      [707/808 2:29:35 < 21:25, 0.08 it/s, Epoch 7/8]\n",
       "    </div>\n",
       "    <table border=\"1\" class=\"dataframe\">\n",
       "  <thead>\n",
       " <tr style=\"text-align: left;\">\n",
       "      <th>Epoch</th>\n",
       "      <th>Training Loss</th>\n",
       "      <th>Validation Loss</th>\n",
       "      <th>Accuracy</th>\n",
       "      <th>F1</th>\n",
       "      <th>Precision</th>\n",
       "      <th>Recall</th>\n",
       "    </tr>\n",
       "  </thead>\n",
       "  <tbody>\n",
       "    <tr>\n",
       "      <td>1</td>\n",
       "      <td>0.671100</td>\n",
       "      <td>0.505122</td>\n",
       "      <td>0.875723</td>\n",
       "      <td>0.845038</td>\n",
       "      <td>0.828074</td>\n",
       "      <td>0.875723</td>\n",
       "    </tr>\n",
       "    <tr>\n",
       "      <td>2</td>\n",
       "      <td>0.203500</td>\n",
       "      <td>0.136108</td>\n",
       "      <td>0.968208</td>\n",
       "      <td>0.965928</td>\n",
       "      <td>0.965247</td>\n",
       "      <td>0.968208</td>\n",
       "    </tr>\n",
       "    <tr>\n",
       "      <td>3</td>\n",
       "      <td>0.096100</td>\n",
       "      <td>0.115699</td>\n",
       "      <td>0.971098</td>\n",
       "      <td>0.967820</td>\n",
       "      <td>0.965607</td>\n",
       "      <td>0.971098</td>\n",
       "    </tr>\n",
       "    <tr>\n",
       "      <td>4</td>\n",
       "      <td>0.020300</td>\n",
       "      <td>0.036993</td>\n",
       "      <td>0.988439</td>\n",
       "      <td>0.987259</td>\n",
       "      <td>0.989540</td>\n",
       "      <td>0.988439</td>\n",
       "    </tr>\n",
       "    <tr>\n",
       "      <td>5</td>\n",
       "      <td>0.022000</td>\n",
       "      <td>0.040728</td>\n",
       "      <td>0.991329</td>\n",
       "      <td>0.991208</td>\n",
       "      <td>0.992118</td>\n",
       "      <td>0.991329</td>\n",
       "    </tr>\n",
       "    <tr>\n",
       "      <td>6</td>\n",
       "      <td>0.006200</td>\n",
       "      <td>0.039847</td>\n",
       "      <td>0.988439</td>\n",
       "      <td>0.988691</td>\n",
       "      <td>0.989543</td>\n",
       "      <td>0.988439</td>\n",
       "    </tr>\n",
       "    <tr>\n",
       "      <td>7</td>\n",
       "      <td>0.005300</td>\n",
       "      <td>0.044110</td>\n",
       "      <td>0.988439</td>\n",
       "      <td>0.988463</td>\n",
       "      <td>0.989806</td>\n",
       "      <td>0.988439</td>\n",
       "    </tr>\n",
       "  </tbody>\n",
       "</table><p>"
      ],
      "text/plain": [
       "<IPython.core.display.HTML object>"
      ]
     },
     "metadata": {},
     "output_type": "display_data"
    },
    {
     "name": "stderr",
     "output_type": "stream",
     "text": [
      "c:\\Users\\abhay\\AppData\\Local\\Programs\\Python\\Python310\\lib\\site-packages\\sklearn\\metrics\\_classification.py:1565: UndefinedMetricWarning: Precision is ill-defined and being set to 0.0 in labels with no predicted samples. Use `zero_division` parameter to control this behavior.\n",
      "  _warn_prf(average, modifier, f\"{metric.capitalize()} is\", len(result))\n",
      "c:\\Users\\abhay\\AppData\\Local\\Programs\\Python\\Python310\\lib\\site-packages\\torch\\utils\\data\\dataloader.py:665: UserWarning: 'pin_memory' argument is set as true but no accelerator is found, then device pinned memory won't be used.\n",
      "  warnings.warn(warn_msg)\n",
      "c:\\Users\\abhay\\AppData\\Local\\Programs\\Python\\Python310\\lib\\site-packages\\sklearn\\metrics\\_classification.py:1565: UndefinedMetricWarning: Precision is ill-defined and being set to 0.0 in labels with no predicted samples. Use `zero_division` parameter to control this behavior.\n",
      "  _warn_prf(average, modifier, f\"{metric.capitalize()} is\", len(result))\n",
      "c:\\Users\\abhay\\AppData\\Local\\Programs\\Python\\Python310\\lib\\site-packages\\torch\\utils\\data\\dataloader.py:665: UserWarning: 'pin_memory' argument is set as true but no accelerator is found, then device pinned memory won't be used.\n",
      "  warnings.warn(warn_msg)\n",
      "c:\\Users\\abhay\\AppData\\Local\\Programs\\Python\\Python310\\lib\\site-packages\\sklearn\\metrics\\_classification.py:1565: UndefinedMetricWarning: Precision is ill-defined and being set to 0.0 in labels with no predicted samples. Use `zero_division` parameter to control this behavior.\n",
      "  _warn_prf(average, modifier, f\"{metric.capitalize()} is\", len(result))\n",
      "c:\\Users\\abhay\\AppData\\Local\\Programs\\Python\\Python310\\lib\\site-packages\\torch\\utils\\data\\dataloader.py:665: UserWarning: 'pin_memory' argument is set as true but no accelerator is found, then device pinned memory won't be used.\n",
      "  warnings.warn(warn_msg)\n",
      "c:\\Users\\abhay\\AppData\\Local\\Programs\\Python\\Python310\\lib\\site-packages\\torch\\utils\\data\\dataloader.py:665: UserWarning: 'pin_memory' argument is set as true but no accelerator is found, then device pinned memory won't be used.\n",
      "  warnings.warn(warn_msg)\n",
      "c:\\Users\\abhay\\AppData\\Local\\Programs\\Python\\Python310\\lib\\site-packages\\torch\\utils\\data\\dataloader.py:665: UserWarning: 'pin_memory' argument is set as true but no accelerator is found, then device pinned memory won't be used.\n",
      "  warnings.warn(warn_msg)\n",
      "c:\\Users\\abhay\\AppData\\Local\\Programs\\Python\\Python310\\lib\\site-packages\\torch\\utils\\data\\dataloader.py:665: UserWarning: 'pin_memory' argument is set as true but no accelerator is found, then device pinned memory won't be used.\n",
      "  warnings.warn(warn_msg)\n"
     ]
    },
    {
     "name": "stdout",
     "output_type": "stream",
     "text": [
      "\n",
      "\n",
      "---------------------------------------------------------------------------------------\n",
      "\n",
      "Training complete for model: roberta-base\n",
      "\n",
      "Best checkpoint path: ./models/roberta-base\\checkpoint-505\n",
      "Stopped at epoch: 7.0\n"
     ]
    }
   ],
   "source": [
    "# Begin training\n",
    "trainer.train()\n",
    "\n",
    "# After training completes, print the best model path\n",
    "\n",
    "print(\"\\n\\n---------------------------------------------------------------------------------------\")\n",
    "\n",
    "print(f\"\\nTraining complete for model: {model_name}\")\n",
    "print(\"\\nBest checkpoint path:\", trainer.state.best_model_checkpoint)\n",
    "print(f\"Stopped at epoch: {trainer.state.epoch:.1f}\")\n"
   ]
  },
  {
   "cell_type": "code",
   "execution_count": 48,
   "id": "27b39203",
   "metadata": {},
   "outputs": [
    {
     "name": "stderr",
     "output_type": "stream",
     "text": [
      "c:\\Users\\abhay\\AppData\\Local\\Programs\\Python\\Python310\\lib\\site-packages\\torch\\utils\\data\\dataloader.py:665: UserWarning: 'pin_memory' argument is set as true but no accelerator is found, then device pinned memory won't be used.\n",
      "  warnings.warn(warn_msg)\n"
     ]
    },
    {
     "data": {
      "text/html": [],
      "text/plain": [
       "<IPython.core.display.HTML object>"
      ]
     },
     "metadata": {},
     "output_type": "display_data"
    },
    {
     "name": "stdout",
     "output_type": "stream",
     "text": [
      "Test set metrics (RoBERTa):\n",
      "eval_loss: 0.2103\n",
      "eval_accuracy: 0.9682\n",
      "eval_f1: 0.9673\n",
      "eval_precision: 0.9680\n",
      "eval_recall: 0.9682\n",
      "eval_runtime: 91.5973\n",
      "eval_samples_per_second: 3.7770\n",
      "eval_steps_per_second: 0.1200\n",
      "epoch: 7.0000\n"
     ]
    }
   ],
   "source": [
    "# Reload best checkpoint (just in case)\n",
    "from transformers import AutoModelForSequenceClassification\n",
    "\n",
    "best_model_path = trainer.state.best_model_checkpoint\n",
    "model = AutoModelForSequenceClassification.from_pretrained(best_model_path, num_labels=num_labels)\n",
    "trainer.model = model\n",
    "\n",
    "# Evaluate on test set\n",
    "test_metrics = trainer.evaluate(tokenized_datasets[\"test\"])\n",
    "print(\"Test set metrics (RoBERTa):\")\n",
    "for metric, value in test_metrics.items():\n",
    "    print(f\"{metric}: {value:.4f}\")"
   ]
  },
  {
   "cell_type": "code",
   "execution_count": 49,
   "id": "2ca1c54d",
   "metadata": {},
   "outputs": [
    {
     "name": "stderr",
     "output_type": "stream",
     "text": [
      "c:\\Users\\abhay\\AppData\\Local\\Programs\\Python\\Python310\\lib\\site-packages\\torch\\utils\\data\\dataloader.py:665: UserWarning: 'pin_memory' argument is set as true but no accelerator is found, then device pinned memory won't be used.\n",
      "  warnings.warn(warn_msg)\n"
     ]
    },
    {
     "name": "stdout",
     "output_type": "stream",
     "text": [
      "Classification Report (RoBERTa):\n",
      "                      precision    recall  f1-score   support\n",
      "\n",
      "    CHECK_SALE_ITEMS       1.00      1.00      1.00        10\n",
      "    CONNECT_TO_AGENT       1.00      1.00      1.00         9\n",
      "             GOODBYE       1.00      0.71      0.83         7\n",
      "               OTHER       0.67      0.67      0.67         3\n",
      "      PRODUCT_SEARCH       0.99      0.97      0.98       140\n",
      "         RETURN_ITEM       1.00      1.00      1.00        15\n",
      " SENTIMENT_COMPLAINT       0.95      0.95      0.95        22\n",
      "    SENTIMENT_PRAISE       0.97      0.99      0.98       116\n",
      "VIEW_PRODUCT_DETAILS       0.67      0.50      0.57         4\n",
      "VIEW_RECOMMENDATIONS       0.91      1.00      0.95        20\n",
      "\n",
      "            accuracy                           0.97       346\n",
      "           macro avg       0.91      0.88      0.89       346\n",
      "        weighted avg       0.97      0.97      0.97       346\n",
      "\n"
     ]
    },
    {
     "data": {
      "image/png": "[encoded data removed]",
      "text/plain": [
       "<Figure size 1200x1000 with 2 Axes>"
      ]
     },
     "metadata": {},
     "output_type": "display_data"
    }
   ],
   "source": [
    "# Predict again using RoBERTa on test set\n",
    "preds_output = trainer.predict(tokenized_datasets[\"test\"])\n",
    "y_true = preds_output.label_ids\n",
    "y_pred = preds_output.predictions.argmax(axis=1)\n",
    "\n",
    "# Decode to intent strings\n",
    "true_intents = label_encoder.inverse_transform(y_true)\n",
    "predicted_intents = label_encoder.inverse_transform(y_pred)\n",
    "\n",
    "# Classification report\n",
    "print(\"Classification Report (RoBERTa):\")\n",
    "print(classification_report(true_intents, predicted_intents, target_names=label_encoder.classes_))\n",
    "\n",
    "# Confusion matrix\n",
    "cm = confusion_matrix(true_intents, predicted_intents, labels=label_encoder.classes_)\n",
    "plt.figure(figsize=(12, 10))\n",
    "sns.heatmap(cm, annot=True, fmt=\"d\", cmap=\"Blues\",\n",
    "            xticklabels=label_encoder.classes_,\n",
    "            yticklabels=label_encoder.classes_)\n",
    "plt.xlabel(\"Predicted\")\n",
    "plt.ylabel(\"True\")\n",
    "plt.title(\"Confusion Matrix – RoBERTa Test Set\")\n",
    "plt.show()\n"
   ]
  },
  {
   "cell_type": "code",
   "execution_count": null,
   "id": "59c5144d",
   "metadata": {},
   "outputs": [],
   "source": []
  },
  {
   "cell_type": "code",
   "execution_count": null,
   "id": "c130c257",
   "metadata": {},
   "outputs": [],
   "source": []
  },
  {
   "cell_type": "code",
   "execution_count": null,
   "id": "36991bdc",
   "metadata": {},
   "outputs": [],
   "source": []
  },
  {
   "cell_type": "code",
   "execution_count": null,
   "id": "7f805144",
   "metadata": {},
   "outputs": [],
   "source": []
  }
 ],
 "metadata": {
  "kernelspec": {
   "display_name": "Python 3",
   "language": "python",
   "name": "python3"
  },
  "language_info": {
   "codemirror_mode": {
    "name": "ipython",
    "version": 3
   },
   "file_extension": ".py",
   "mimetype": "text/x-python",
   "name": "python",
   "nbconvert_exporter": "python",
   "pygments_lexer": "ipython3",
   "version": "3.10.11"
  }
 },
 "nbformat": 4,
 "nbformat_minor": 5
}
