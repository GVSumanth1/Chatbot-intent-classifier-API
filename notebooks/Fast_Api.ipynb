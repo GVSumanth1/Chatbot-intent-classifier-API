{
 "cells": [
  {
   "cell_type": "code",
   "execution_count": 1,
   "id": "295ae5c7",
   "metadata": {},
   "outputs": [],
   "source": [
    "# ! pip install fastapi uvicorn"
   ]
  },
  {
   "cell_type": "code",
   "execution_count": 2,
   "id": "95b2c7f9",
   "metadata": {},
   "outputs": [],
   "source": [
    "import nest_asyncio\n",
    "from fastapi import FastAPI\n",
    "from pydantic import BaseModel\n",
    "import uvicorn\n",
    "import nest_asyncio"
   ]
  },
  {
   "cell_type": "code",
   "execution_count": null,
   "id": "65380c1d",
   "metadata": {},
   "outputs": [],
   "source": [
    "from fastapi import FastAPI\n",
    "from pydantic import BaseModel\n",
    "import os\n",
    "import sys\n",
    "\n",
    "# Ensure chatbot_core can be imported\n",
    "project_root = os.path.abspath(\"..\")\n",
    "if project_root not in sys.path:\n",
    "    sys.path.append(project_root)\n",
    "\n",
    "from chatbot_core import predict_intent\n",
    "\n",
    "app = FastAPI(title=\"Chatbot Intent API\")\n",
    "\n",
    "class UserInput(BaseModel):\n",
    "    message: str\n",
    "\n",
    "@app.get(\"/\")\n",
    "def root():\n",
    "    return {\"message\": \"Welcome to the chatbot API!\"}\n",
    "\n",
    "\n",
    "@app.post(\"/predict\")\n",
    "async def predict(user_input: UserInput):\n",
    "    message = user_input.message\n",
    "    predicted_intent, source, confidence, timestamp = predict_intent(message)\n",
    "    \n",
    "    # Add confidence label\n",
    "    if confidence is None:\n",
    "        confidence_label = \"N/A\"\n",
    "    elif confidence >= 0.85:\n",
    "        confidence_label = \"high\"\n",
    "    elif confidence >= 0.65:\n",
    "        confidence_label = \"medium\"\n",
    "    else:\n",
    "        confidence_label = \"low\"\n",
    "\n",
    "    # # Add timestamp\n",
    "    # timestamp = datetime.now().isoformat()\n",
    "\n",
    "    return {\n",
    "        \"input\": message,\n",
    "        \"predicted_intent\": predicted_intent,\n",
    "        \"source\": source,\n",
    "        \"confidence\": round(confidence, 3) if confidence is not None else None,\n",
    "        \"confidence_level\": confidence_label,\n",
    "        \"timestamp\": timestamp\n",
    "    }\n"
   ]
  },
  {
   "cell_type": "code",
   "execution_count": null,
   "id": "7c33a361",
   "metadata": {},
   "outputs": [
    {
     "name": "stderr",
     "output_type": "stream",
     "text": [
      "INFO:     Will watch for changes in these directories: ['d:\\\\0) Abhay\\\\04) SRH University Study Docs\\\\Advance Programming\\\\Python Files\\\\Case Study Files\\\\notebooks']\n",
      "INFO:     Uvicorn running on http://127.0.0.1:8000 (Press CTRL+C to quit)\n",
      "INFO:     Started reloader process [16568] using StatReload\n"
     ]
    }
   ],
   "source": [
    "import nest_asyncio\n",
    "import uvicorn\n",
    "import os\n",
    "import sys\n",
    "\n",
    "project_root = os.path.abspath(\"..\")\n",
    "if project_root not in sys.path:\n",
    "    sys.path.append(project_root)\n",
    "    \n",
    "nest_asyncio.apply()\n",
    "uvicorn.run(\"api.app:app\", host=\"127.0.0.1\", port=8000, reload=True)\n",
    "#http://127.0.0.1:8000/docs"
   ]
  },
  {
   "cell_type": "code",
   "execution_count": null,
   "id": "9511e4b0",
   "metadata": {},
   "outputs": [],
   "source": []
  }
 ],
 "metadata": {
  "kernelspec": {
   "display_name": "Python 3",
   "language": "python",
   "name": "python3"
  },
  "language_info": {
   "codemirror_mode": {
    "name": "ipython",
    "version": 3
   },
   "file_extension": ".py",
   "mimetype": "text/x-python",
   "name": "python",
   "nbconvert_exporter": "python",
   "pygments_lexer": "ipython3",
   "version": "3.10.11"
  }
 },
 "nbformat": 4,
 "nbformat_minor": 5
}
